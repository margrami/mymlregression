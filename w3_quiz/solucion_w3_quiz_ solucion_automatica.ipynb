{
 "cells": [
  {
   "cell_type": "code",
   "execution_count": 1,
   "metadata": {
    "collapsed": true
   },
   "outputs": [],
   "source": [
    "import graphlab\n",
    "import numpy as np\n",
    "import matplotlib.pyplot as plt\n",
    "%matplotlib inline"
   ]
  },
  {
   "cell_type": "code",
   "execution_count": null,
   "metadata": {
    "collapsed": true
   },
   "outputs": [],
   "source": [
    "# carga de datos"
   ]
  },
  {
   "cell_type": "code",
   "execution_count": 2,
   "metadata": {
    "collapsed": false
   },
   "outputs": [
    {
     "name": "stderr",
     "output_type": "stream",
     "text": [
      "[INFO] \u001b[1;32m1450267943 : INFO:     (initialize_globals_from_environment:282): Setting configuration variable GRAPHLAB_FILEIO_ALTERNATIVE_SSL_CERT_FILE to C:\\Users\\margrami\\AppData\\Local\\Dato\\Dato Launcher\\lib\\site-packages\\certifi\\cacert.pem\n",
      "\u001b[0m\u001b[1;32m1450267943 : INFO:     (initialize_globals_from_environment:282): Setting configuration variable GRAPHLAB_FILEIO_ALTERNATIVE_SSL_CERT_DIR to \n",
      "\u001b[0mThis non-commercial license of GraphLab Create is assigned to margrami221@yahoo.com and will expire on October 13, 2016. For commercial licensing options, visit https://dato.com/buy/.\n",
      "\n",
      "[INFO] Start server at: ipc:///tmp/graphlab_server-3732 - Server binary: C:\\Users\\margrami\\AppData\\Local\\Dato\\Dato Launcher\\lib\\site-packages\\graphlab\\unity_server.exe - Server log: C:\\Users\\margrami\\AppData\\Local\\Temp\\graphlab_server_1450267943.log.0\n",
      "[INFO] GraphLab Server Version: 1.7.1\n"
     ]
    }
   ],
   "source": [
    "sales = graphlab.SFrame('kc_house_data.gl/')"
   ]
  },
  {
   "cell_type": "code",
   "execution_count": 3,
   "metadata": {
    "collapsed": true
   },
   "outputs": [],
   "source": [
    "train_and_validation_data, test_data = sales.random_split(0.9, seed=1)\n",
    "train_data, val_data = train_and_validation_data.random_split(0.5, seed=1)"
   ]
  },
  {
   "cell_type": "code",
   "execution_count": 25,
   "metadata": {
    "collapsed": true
   },
   "outputs": [],
   "source": [
    "def comparar_modelos(set_data, set_val_data, my_features):\n",
    "    model= graphlab.linear_regression.create(set_data, target = 'price', features = my_features, validation_set = None, verbose = False)\n",
    "    my_rmse = graphlab.evaluation.rmse(set_val_data['price'], model.predict(set_val_data))\n",
    "    return my_rmse"
   ]
  },
  {
   "cell_type": "markdown",
   "metadata": {},
   "source": [
    "# Aqui tengo una gran duda: \n",
    "# dado que la hypotesis es es H(w) = w0+ w1x + w2X^2 +...+ wnX^n. Debo evaluar el set val_data en forma polinomial??? \n"
   ]
  },
  {
   "cell_type": "code",
   "execution_count": 36,
   "metadata": {
    "collapsed": false
   },
   "outputs": [
    {
     "name": "stdout",
     "output_type": "stream",
     "text": [
      "Polynomial Degree with min rmse is : 6\n"
     ]
    }
   ],
   "source": [
    "degree = 15\n",
    "features_vector = ['sqft_living']\n",
    "rmse_vector =[comparar_modelos(train_data, val_data, features_vector)]\n",
    "for i in range(2, degree+1):\n",
    "    name = 'power_' + str(i)\n",
    "    features_vector.append(name)\n",
    "    train_data[name] = train_data['sqft_living'].apply(lambda x: x**i)\n",
    "    my_rmse = comparar_modelos(train_data, val_data, features_vector)\n",
    "    rmse_vector.append(my_rmse)\n",
    "selected = rmse_vector.index(min(rmse_vector)) + 1   \n",
    "print (rmse_vector)\n",
    "print ('Polynomial Degree with min rmse is : ' + str(selected))  "
   ]
  },
  {
   "cell_type": "markdown",
   "metadata": {},
   "source": [
    "# ahora applicando polynomial_Sframe a val_data"
   ]
  },
  {
   "cell_type": "code",
   "execution_count": 38,
   "metadata": {
    "collapsed": true
   },
   "outputs": [],
   "source": [
    "def polynomial_sframe(feature, degree):\n",
    "    # assume that degree >= 1\n",
    "    # initialize the SFrame:\n",
    "    poly_sframe = graphlab.SFrame()\n",
    "    # and set poly_sframe['power_1'] equal to the passed feature\n",
    "    poly_sframe['power_1'] = feature\n",
    "    # first check if degree > 1\n",
    "    if degree > 1:\n",
    "        # then loop over the remaining degrees:\n",
    "        # range usually starts at 0 and stops at the endpoint-1. We want it to start at 2 and stop at degree\n",
    "        for power in range(2, degree+1): \n",
    "            # first we'll give the column a name:\n",
    "            name = 'power_' + str(power)\n",
    "            # then assign poly_sframe[name] to the appropriate power of feature\n",
    "            poly_sframe[str(name)] = feature.apply(lambda x: x**power)\n",
    "    return poly_sframe"
   ]
  },
  {
   "cell_type": "code",
   "execution_count": 43,
   "metadata": {
    "collapsed": false
   },
   "outputs": [],
   "source": [
    "val_data_poly = polynomial_sframe(val_data['sqft_living'], 15)\n",
    "val_data_poly['price'] = val_data['price']"
   ]
  },
  {
   "cell_type": "code",
   "execution_count": 45,
   "metadata": {
    "collapsed": false
   },
   "outputs": [
    {
     "name": "stdout",
     "output_type": "stream",
     "text": [
      "[356204.81970734446, 254396.56780271206, 254436.40259179243, 257103.6131311395, 263623.624317145, 336060.4338609304, 453947.2721422761, 460012.34535565827, 474850.853327861, 497657.2074171463, 495598.1184413642, 448720.03615651524, 370959.0281381711, 387144.66840212955, 673709.7727920217]\n",
      "Polynomial Degree with min rmse is : 2\n"
     ]
    }
   ],
   "source": [
    "degree = 15\n",
    "features_vector = ['sqft_living']\n",
    "rmse_vector =[comparar_modelos(train_data, val_data_poly, features_vector)]\n",
    "for i in range(2, degree+1):\n",
    "    name = 'power_' + str(i)\n",
    "    features_vector.append(name)\n",
    "    #train_data[name] = train_data['sqft_living'].apply(lambda x: x**i)\n",
    "    my_rmse = comparar_modelos(train_data, val_data_poly, features_vector)\n",
    "    rmse_vector.append(my_rmse)\n",
    "selected = rmse_vector.index(min(rmse_vector)) + 1   \n",
    "print (rmse_vector)\n",
    "print ('Polynomial Degree with min rmse is : ' + str(selected))  "
   ]
  }
 ],
 "metadata": {
  "kernelspec": {
   "display_name": "Python 2",
   "language": "python",
   "name": "python2"
  },
  "language_info": {
   "codemirror_mode": {
    "name": "ipython",
    "version": 2
   },
   "file_extension": ".py",
   "mimetype": "text/x-python",
   "name": "python",
   "nbconvert_exporter": "python",
   "pygments_lexer": "ipython2",
   "version": "2.7.10"
  }
 },
 "nbformat": 4,
 "nbformat_minor": 0
}
