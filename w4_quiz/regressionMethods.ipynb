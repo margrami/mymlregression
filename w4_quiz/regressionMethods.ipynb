{
 "cells": [
  {
   "cell_type": "code",
   "execution_count": 1,
   "metadata": {
    "collapsed": true
   },
   "outputs": [],
   "source": [
    "import graphlab"
   ]
  },
  {
   "cell_type": "code",
   "execution_count": 4,
   "metadata": {
    "collapsed": true
   },
   "outputs": [],
   "source": [
    "import numpy as np"
   ]
  },
  {
   "cell_type": "code",
   "execution_count": 5,
   "metadata": {
    "collapsed": true
   },
   "outputs": [],
   "source": [
    "np.array?"
   ]
  },
  {
   "cell_type": "code",
   "execution_count": null,
   "metadata": {
    "collapsed": true
   },
   "outputs": [],
   "source": []
  },
  {
   "cell_type": "markdown",
   "metadata": {},
   "source": [
    "# fsdfsdfs"
   ]
  },
  {
   "cell_type": "code",
   "execution_count": 3,
   "metadata": {
    "collapsed": false
   },
   "outputs": [],
   "source": [
    "class Methods():\n",
    "    \n",
    "    def __init__(self, degree, feature):\n",
    "        self.degree = degree\n",
    "        self.polyOrigen = graphlab.SFrame()\n",
    "        self.polyOrigen['power_1'] =  feature\n",
    "    \n",
    "    def polynomial_sframe(feature, degree):\n",
    "        # assume that degree >= 1\n",
    "        # initialize the SFrame:\n",
    "        poly_sframe = graphlab.SFrame()\n",
    "        # and set poly_sframe['power_1'] equal to the passed feature\n",
    "        poly_sframe['power_1'] = feature\n",
    "        # first check if degree > 1\n",
    "        if degree > 1:\n",
    "            # then loop over the remaining degrees:\n",
    "            # range usually starts at 0 and stops at the endpoint-1. We want it to start at 2 and stop at degree\n",
    "            for power in range(2, degree+1): \n",
    "                # first we'll give the column a name:\n",
    "                name = 'power_' + str(power)\n",
    "                # then assign poly_sframe[name] to the appropriate power of feature\n",
    "                poly_sframe[str(name)] = feature.apply(lambda x: x**power)\n",
    "        return poly_sframe\n",
    "    "
   ]
  }
 ],
 "metadata": {
  "kernelspec": {
   "display_name": "Python 2",
   "language": "python",
   "name": "python2"
  },
  "language_info": {
   "codemirror_mode": {
    "name": "ipython",
    "version": 2
   },
   "file_extension": ".py",
   "mimetype": "text/x-python",
   "name": "python",
   "nbconvert_exporter": "python",
   "pygments_lexer": "ipython2",
   "version": "2.7.10"
  }
 },
 "nbformat": 4,
 "nbformat_minor": 0
}
