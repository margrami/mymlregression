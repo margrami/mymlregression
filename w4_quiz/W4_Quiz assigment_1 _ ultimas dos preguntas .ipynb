{
 "cells": [
  {
   "cell_type": "code",
   "execution_count": 2,
   "metadata": {
    "collapsed": true
   },
   "outputs": [],
   "source": [
    "import graphlab\n",
    "import numpy"
   ]
  },
  {
   "cell_type": "code",
   "execution_count": 3,
   "metadata": {
    "collapsed": true
   },
   "outputs": [],
   "source": [
    "import matplotlib.pyplot as plt\n",
    "%matplotlib inline"
   ]
  },
  {
   "cell_type": "markdown",
   "metadata": {},
   "source": [
    "# Debi aislar las funciones porque parece que en el otro ipython algo metia ruido y los resultados no eran correctos."
   ]
  },
  {
   "cell_type": "markdown",
   "metadata": {},
   "source": [
    "* DATOS"
   ]
  },
  {
   "cell_type": "code",
   "execution_count": 4,
   "metadata": {
    "collapsed": false
   },
   "outputs": [
    {
     "name": "stderr",
     "output_type": "stream",
     "text": [
      "[INFO] \u001b[1;32m1450791293 : INFO:     (initialize_globals_from_environment:282): Setting configuration variable GRAPHLAB_FILEIO_ALTERNATIVE_SSL_CERT_FILE to C:\\Users\\margrami\\AppData\\Local\\Dato\\Dato Launcher\\lib\\site-packages\\certifi\\cacert.pem\n",
      "\u001b[0m\u001b[1;32m1450791293 : INFO:     (initialize_globals_from_environment:282): Setting configuration variable GRAPHLAB_FILEIO_ALTERNATIVE_SSL_CERT_DIR to \n",
      "\u001b[0mThis non-commercial license of GraphLab Create is assigned to margrami221@yahoo.com and will expire on October 13, 2016. For commercial licensing options, visit https://dato.com/buy/.\n",
      "\n",
      "[INFO] Start server at: ipc:///tmp/graphlab_server-6476 - Server binary: C:\\Users\\margrami\\AppData\\Local\\Dato\\Dato Launcher\\lib\\site-packages\\graphlab\\unity_server.exe - Server log: C:\\Users\\margrami\\AppData\\Local\\Temp\\graphlab_server_1450791293.log.0\n",
      "[INFO] GraphLab Server Version: 1.7.1\n"
     ]
    }
   ],
   "source": [
    "sales = graphlab.SFrame('kc_house_data.gl/')"
   ]
  },
  {
   "cell_type": "code",
   "execution_count": 5,
   "metadata": {
    "collapsed": true
   },
   "outputs": [],
   "source": [
    "sales = sales.sort(['sqft_living','price'])"
   ]
  },
  {
   "cell_type": "code",
   "execution_count": 6,
   "metadata": {
    "collapsed": true
   },
   "outputs": [],
   "source": [
    "(train_valid, test) = sales.random_split(.9, seed=1)\n",
    "train_valid_shuffled = graphlab.toolkits.cross_validation.shuffle(train_valid, random_seed=1)"
   ]
  },
  {
   "cell_type": "markdown",
   "metadata": {},
   "source": [
    "* FUNTIONS"
   ]
  },
  {
   "cell_type": "code",
   "execution_count": 7,
   "metadata": {
    "collapsed": true
   },
   "outputs": [],
   "source": [
    "def polynomial_sframe(feature, degree):\n",
    "    # assume that degree >= 1\n",
    "    # initialize the SFrame:\n",
    "    poly_sframe = graphlab.SFrame()\n",
    "    # and set poly_sframe['power_1'] equal to the passed feature\n",
    "    poly_sframe['power_1'] = feature\n",
    "    # first check if degree > 1\n",
    "    if degree > 1:\n",
    "        # then loop over the remaining degrees:\n",
    "        # range usually starts at 0 and stops at the endpoint-1. We want it to start at 2 and stop at degree\n",
    "        for power in range(2, degree+1): \n",
    "            # first we'll give the column a name:\n",
    "            name = 'power_' + str(power)\n",
    "            # then assign poly_sframe[name] to the appropriate power of feature\n",
    "            poly_sframe[str(name)] = feature.apply(lambda x: x**power)\n",
    "    return poly_sframe"
   ]
  },
  {
   "cell_type": "code",
   "execution_count": 8,
   "metadata": {
    "collapsed": true
   },
   "outputs": [],
   "source": [
    "def create_segment(dico, segment, data_set):\n",
    "    seg_data = data_set[dico.get(segment)[0]:dico.get(segment)[1]]   \n",
    "    return seg_data"
   ]
  },
  {
   "cell_type": "code",
   "execution_count": 9,
   "metadata": {
    "collapsed": false
   },
   "outputs": [],
   "source": [
    "def excluding_segment(dico, segment, data_set):\n",
    "    # ojo con la mutabilidad de python \n",
    "    # para copiar un diccionario hacer z = x.copy()\n",
    "    dico2 = dico.copy()\n",
    "    del dico2[segment]\n",
    "    valores = dico2.values()\n",
    "    new_data = data_set[valores[0][0]:valores[0][1]]\n",
    "    del valores[0]\n",
    "    for seg in valores:\n",
    "        new_data.append(data_set[seg[0]:seg[1]]) # pega los segmentos restantes\n",
    "    \n",
    "    return new_data\n"
   ]
  },
  {
   "cell_type": "code",
   "execution_count": 45,
   "metadata": {
    "collapsed": true
   },
   "outputs": [],
   "source": [
    "def k_fold_cross_validation(k, L2, data, output_name, features_list):\n",
    "    n = len(data) # 10-fold cross-validation\n",
    "    kDicc={}\n",
    "    mse = 0\n",
    "    #Compute starting and ending indices of segment i and call 'start' and 'end'\n",
    "    for i in xrange(k):\n",
    "        start = (n*i)/k\n",
    "        end = (n*(i+1))/k-1\n",
    "        # dic['key'] = value, en este caso una tupla\n",
    "        kDicc[str(i)] = (start, end)\n",
    "    # toda los segmentos estan en el diccionario kDicc\n",
    "    for i in xrange(k):\n",
    "        # Form validation set by taking a slice (start:end+1) from the data\n",
    "        validation= create_segment(kDicc,str(i),data)\n",
    "        #Form training set by appending slice (end+1:n) to the end of slice (0:start).\n",
    "        train = excluding_segment(kDicc,str(i),data)\n",
    "        # Train a linear model using training set just formed, with a given l2_penalty\n",
    "        model= graphlab.linear_regression.create(train, target = 'price', features = features_list, l2_penalty = L2, \n",
    "                                                 validation_set = None, verbose = False)\n",
    "        #Compute validation error using validation set just formed\n",
    "        \n",
    "        # predict on validation set \n",
    "        predicted = model.predict(validation)\n",
    "        # compute squared error\n",
    "        mse += ((predicted - validation['price'])**2).sum()\n",
    "    mean_mse = mse/k\n",
    "    return mean_mse"
   ]
  },
  {
   "cell_type": "markdown",
   "metadata": {},
   "source": [
    "* This is something like main "
   ]
  },
  {
   "cell_type": "code",
   "execution_count": 46,
   "metadata": {
    "collapsed": false
   },
   "outputs": [],
   "source": [
    "polySet_data_shuffled = polynomial_sframe(train_valid_shuffled['sqft_living'], 15)\n",
    "features_list = polySet_data_shuffled.column_names()\n",
    "polySet_data_shuffled['price'] = train_valid_shuffled['price']"
   ]
  },
  {
   "cell_type": "code",
   "execution_count": 47,
   "metadata": {
    "collapsed": false
   },
   "outputs": [
    {
     "data": {
      "text/plain": [
       "array([  1.00000000e+01,   3.16227766e+01,   1.00000000e+02,\n",
       "         3.16227766e+02,   1.00000000e+03,   3.16227766e+03,\n",
       "         1.00000000e+04,   3.16227766e+04,   1.00000000e+05,\n",
       "         3.16227766e+05,   1.00000000e+06,   3.16227766e+06,\n",
       "         1.00000000e+07])"
      ]
     },
     "execution_count": 47,
     "metadata": {},
     "output_type": "execute_result"
    }
   ],
   "source": [
    "l2_penalty_values = numpy.logspace(1, 7, num=13)\n",
    "l2_penalty_values"
   ]
  },
  {
   "cell_type": "markdown",
   "metadata": {},
   "source": [
    "we consider \"leave one out\" (LOO) cross validation, which one can show approximates average mean square error (MSE). \n",
    "As a result, choosing lambda to minimize the LOO error is \n",
    "equivalent to choosing lambda to minimize an approximation to average MSE.\n"
   ]
  },
  {
   "cell_type": "code",
   "execution_count": 51,
   "metadata": {
    "collapsed": false
   },
   "outputs": [
    {
     "name": "stdout",
     "output_type": "stream",
     "text": [
      "Best performant Lambda : 316.227766017\n"
     ]
    }
   ],
   "source": [
    "l2_penalty_values = numpy.logspace(1, 7, num=13)\n",
    "vector_mse = []\n",
    "for l2_penalty in l2_penalty_values:\n",
    "    vector_mse.append(k_fold_cross_validation(10, l2_penalty, polySet_data_shuffled, polySet_data_shuffled['price'], features_list))\n",
    "selected = vector_mse.index(min(vector_mse))\n",
    "print \"Best performant Lambda :\", l2_penalty_values[selected]\n",
    "    \n"
   ]
  },
  {
   "cell_type": "code",
   "execution_count": 52,
   "metadata": {
    "collapsed": false
   },
   "outputs": [
    {
     "data": {
      "image/png": "[encoded data removed]",
      "text/plain": [
       "<matplotlib.figure.Figure at 0x1f210e80>"
      ]
     },
     "metadata": {},
     "output_type": "display_data"
    }
   ],
   "source": [
    "# Plot the l2_penalty values in the x axis and the cross-validation error in the y axis.\n",
    "# Using plt.xscale('log') will make your plot more intuitive.\n",
    "plt.plot(l2_penalty_values,vector_mse,'k-')\n",
    "plt.xlabel('$\\L2_penalty$')\n",
    "plt.ylabel('LOO cross validation error')\n",
    "plt.xscale('log')\n",
    "plt.yscale('log')\n"
   ]
  },
  {
   "cell_type": "markdown",
   "metadata": {},
   "source": [
    "* Una vez el Lambda encontrado, entrenar el modelo con el train data y el Lambda encontrado y predecir los valores \n",
    "* con los datos de test "
   ]
  },
  {
   "cell_type": "code",
   "execution_count": 53,
   "metadata": {
    "collapsed": true
   },
   "outputs": [],
   "source": [
    "model_selected = graphlab.linear_regression.create (polySet_data_shuffled, target = 'price', features = features_list, l2_penalty = l2_penalty_values[selected], \n",
    "                                                 validation_set = None, verbose = False)"
   ]
  },
  {
   "cell_type": "code",
   "execution_count": 58,
   "metadata": {
    "collapsed": false
   },
   "outputs": [
    {
     "name": "stdout",
     "output_type": "stream",
     "text": [
      "Squared error test_set con selected lambda : 1.27643873739e+14\n"
     ]
    }
   ],
   "source": [
    "polySet_test = polynomial_sframe(test['sqft_living'], 15)\n",
    "features_list = polySet_test.column_names()\n",
    "polySet_test['price'] = test['price']\n",
    "predict = model_selected.predict(polySet_test) \n",
    "mse = ((predict - polySet_test['price'])**2).sum()\n",
    "print \"Squared error test_set con selected lambda :\", mse"
   ]
  },
  {
   "cell_type": "code",
   "execution_count": 55,
   "metadata": {
    "collapsed": true
   },
   "outputs": [],
   "source": [
    "# Sort in order to draw the curve\n",
    "test = test.sort(['sqft_living', 'price'])\n",
    "polySet_test = polySet_test.sort(['power_1', 'price'])"
   ]
  },
  {
   "cell_type": "code",
   "execution_count": 57,
   "metadata": {
    "collapsed": false
   },
   "outputs": [
    {
     "data": {
      "text/plain": [
       "<matplotlib.text.Text at 0x1ff17c88>"
      ]
     },
     "execution_count": 57,
     "metadata": {},
     "output_type": "execute_result"
    },
    {
     "data": {
      "image/png": "[encoded data removed]",
      "text/plain": [
       "<matplotlib.figure.Figure at 0x1fbb2e80>"
      ]
     },
     "metadata": {},
     "output_type": "display_data"
    }
   ],
   "source": [
    "plt.plot(test['sqft_living'], test['price'],'.',\n",
    "        polySet_test['power_1'], model_selected.predict(polySet_test),'-' )\n",
    "plt.xlabel('sqft_living')\n",
    "plt.ylabel('Price')"
   ]
  },
  {
   "cell_type": "code",
   "execution_count": null,
   "metadata": {
    "collapsed": true
   },
   "outputs": [],
   "source": []
  }
 ],
 "metadata": {
  "kernelspec": {
   "display_name": "Python 2",
   "language": "python",
   "name": "python2"
  },
  "language_info": {
   "codemirror_mode": {
    "name": "ipython",
    "version": 2
   },
   "file_extension": ".py",
   "mimetype": "text/x-python",
   "name": "python",
   "nbconvert_exporter": "python",
   "pygments_lexer": "ipython2",
   "version": "2.7.10"
  }
 },
 "nbformat": 4,
 "nbformat_minor": 0
}
