{
 "cells": [
  {
   "cell_type": "markdown",
   "metadata": {},
   "source": [
    "# Regression Week 5: Feature Selection and LASSO (Interpretation)"
   ]
  },
  {
   "cell_type": "markdown",
   "metadata": {},
   "source": [
    "In this notebook, you will use LASSO to select features, building on a pre-implemented solver for LASSO (using GraphLab Create, though you can use other solvers). You will:\n",
    "* Run LASSO with different L1 penalties.\n",
    "* Choose best L1 penalty using a validation set.\n",
    "* Choose best L1 penalty using a validation set, with additional constraint on the size of subset.\n",
    "\n",
    "In the second notebook, you will implement your own LASSO solver, using coordinate descent. "
   ]
  },
  {
   "cell_type": "markdown",
   "metadata": {},
   "source": [
    "# Fire up graphlab create"
   ]
  },
  {
   "cell_type": "code",
   "execution_count": 1,
   "metadata": {
    "collapsed": true
   },
   "outputs": [],
   "source": [
    "import graphlab"
   ]
  },
  {
   "cell_type": "code",
   "execution_count": 2,
   "metadata": {
    "collapsed": true
   },
   "outputs": [],
   "source": [
    "import numpy as np"
   ]
  },
  {
   "cell_type": "markdown",
   "metadata": {},
   "source": [
    "# Load in house sales data\n",
    "\n",
    "Dataset is from house sales in King County, the region where the city of Seattle, WA is located."
   ]
  },
  {
   "cell_type": "code",
   "execution_count": 3,
   "metadata": {
    "collapsed": false,
    "scrolled": true
   },
   "outputs": [
    {
     "name": "stderr",
     "output_type": "stream",
     "text": [
      "[INFO] \u001b[1;32m1452080438 : INFO:     (initialize_globals_from_environment:282): Setting configuration variable GRAPHLAB_FILEIO_ALTERNATIVE_SSL_CERT_FILE to C:\\Users\\margrami\\AppData\\Local\\Dato\\Dato Launcher\\lib\\site-packages\\certifi\\cacert.pem\n",
      "\u001b[0m\u001b[1;32m1452080438 : INFO:     (initialize_globals_from_environment:282): Setting configuration variable GRAPHLAB_FILEIO_ALTERNATIVE_SSL_CERT_DIR to \n",
      "\u001b[0mThis non-commercial license of GraphLab Create is assigned to margrami221@yahoo.com and will expire on October 13, 2016. For commercial licensing options, visit https://dato.com/buy/.\n",
      "\n",
      "[INFO] Start server at: ipc:///tmp/graphlab_server-6332 - Server binary: C:\\Users\\margrami\\AppData\\Local\\Dato\\Dato Launcher\\lib\\site-packages\\graphlab\\unity_server.exe - Server log: C:\\Users\\margrami\\AppData\\Local\\Temp\\graphlab_server_1452080438.log.0\n",
      "[INFO] GraphLab Server Version: 1.7.1\n"
     ]
    }
   ],
   "source": [
    "sales = graphlab.SFrame('kc_house_data.gl/')"
   ]
  },
  {
   "cell_type": "markdown",
   "metadata": {},
   "source": [
    "# Create new features"
   ]
  },
  {
   "cell_type": "markdown",
   "metadata": {},
   "source": [
    "As in Week 2, we consider features that are some transformations of inputs."
   ]
  },
  {
   "cell_type": "code",
   "execution_count": 4,
   "metadata": {
    "collapsed": true
   },
   "outputs": [],
   "source": [
    "from math import log, sqrt\n",
    "sales['sqft_living_sqrt'] = sales['sqft_living'].apply(sqrt)\n",
    "sales['sqft_lot_sqrt'] = sales['sqft_lot'].apply(sqrt)\n",
    "sales['bedrooms_square'] = sales['bedrooms']*sales['bedrooms']\n",
    "\n",
    "# In the dataset, 'floors' was defined with type string, \n",
    "# so we'll convert them to float, before creating a new feature.\n",
    "sales['floors'] = sales['floors'].astype(float) \n",
    "sales['floors_square'] = sales['floors']*sales['floors']"
   ]
  },
  {
   "cell_type": "markdown",
   "metadata": {},
   "source": [
    "* Squaring bedrooms will increase the separation between not many bedrooms (e.g. 1) and lots of bedrooms (e.g. 4) since 1^2 = 1 but 4^2 = 16. Consequently this variable will mostly affect houses with many bedrooms.\n",
    "* On the other hand, taking square root of sqft_living will decrease the separation between big house and small house. The owner may not be exactly twice as happy for getting a house that is twice as big."
   ]
  },
  {
   "cell_type": "markdown",
   "metadata": {},
   "source": [
    "# Learn regression weights with L1 penalty"
   ]
  },
  {
   "cell_type": "markdown",
   "metadata": {},
   "source": [
    "Let us fit a model with all the features available, plus the features we just created above."
   ]
  },
  {
   "cell_type": "code",
   "execution_count": 5,
   "metadata": {
    "collapsed": false
   },
   "outputs": [],
   "source": [
    "all_features = ['bedrooms', 'bedrooms_square',\n",
    "            'bathrooms',\n",
    "            'sqft_living', 'sqft_living_sqrt',\n",
    "            'sqft_lot', 'sqft_lot_sqrt',\n",
    "            'floors', 'floors_square',\n",
    "            'waterfront', 'view', 'condition', 'grade',\n",
    "            'sqft_above',\n",
    "            'sqft_basement',\n",
    "            'yr_built', 'yr_renovated']"
   ]
  },
  {
   "cell_type": "markdown",
   "metadata": {},
   "source": [
    "Applying L1 penalty requires adding an extra parameter (`l1_penalty`) to the linear regression call in GraphLab Create. (Other tools may have separate implementations of LASSO.)  Note that it's important to set `l2_penalty=0` to ensure we don't introduce an additional L2 penalty."
   ]
  },
  {
   "cell_type": "code",
   "execution_count": 6,
   "metadata": {
    "collapsed": false
   },
   "outputs": [
    {
     "name": "stdout",
     "output_type": "stream",
     "text": [
      "PROGRESS: Linear regression:\n",
      "PROGRESS: --------------------------------------------------------\n",
      "PROGRESS: Number of examples          : 21613\n",
      "PROGRESS: Number of features          : 17\n",
      "PROGRESS: Number of unpacked features : 17\n",
      "PROGRESS: Number of coefficients    : 18\n",
      "PROGRESS: Starting Accelerated Gradient (FISTA)\n",
      "PROGRESS: --------------------------------------------------------\n",
      "PROGRESS: +-----------+----------+-----------+--------------+--------------------+---------------+\n",
      "PROGRESS: | Iteration | Passes   | Step size | Elapsed Time | Training-max_error | Training-rmse |\n",
      "PROGRESS: +-----------+----------+-----------+--------------+--------------------+---------------+\n",
      "PROGRESS: Tuning step size. First iteration could take longer than subsequent iterations.\n",
      "PROGRESS: | 1         | 2        | 0.000002  | 1.203069     | 6962915.603493     | 426631.749026 |\n",
      "PROGRESS: | 2         | 3        | 0.000002  | 1.221070     | 6843144.200219     | 392488.929838 |\n",
      "PROGRESS: | 3         | 4        | 0.000002  | 1.239071     | 6831900.032123     | 385340.166783 |\n",
      "PROGRESS: | 4         | 5        | 0.000002  | 1.256072     | 6847166.848958     | 384842.383767 |\n",
      "PROGRESS: | 5         | 6        | 0.000002  | 1.271073     | 6869667.895833     | 385998.458623 |\n",
      "PROGRESS: | 6         | 7        | 0.000002  | 1.289074     | 6847177.773672     | 380824.455891 |\n",
      "PROGRESS: +-----------+----------+-----------+--------------+--------------------+---------------+\n",
      "PROGRESS: TERMINATED: Iteration limit reached.\n",
      "PROGRESS: This model may not be optimal. To improve it, consider increasing `max_iterations`.\n"
     ]
    }
   ],
   "source": [
    "model_all = graphlab.linear_regression.create(sales, target='price', features=all_features,\n",
    "                                              validation_set=None, \n",
    "                                              l2_penalty=0., l1_penalty=1e10)"
   ]
  },
  {
   "cell_type": "markdown",
   "metadata": {},
   "source": [
    "Find what features had non-zero weight."
   ]
  },
  {
   "cell_type": "code",
   "execution_count": 7,
   "metadata": {
    "collapsed": false,
    "scrolled": true
   },
   "outputs": [
    {
     "name": "stdout",
     "output_type": "stream",
     "text": [
      "+------------------+-------+---------------+\n",
      "|       name       | index |     value     |\n",
      "+------------------+-------+---------------+\n",
      "|   (intercept)    |  None |  274873.05595 |\n",
      "|     bedrooms     |  None |      0.0      |\n",
      "| bedrooms_square  |  None |      0.0      |\n",
      "|    bathrooms     |  None | 8468.53108691 |\n",
      "|   sqft_living    |  None | 24.4207209824 |\n",
      "| sqft_living_sqrt |  None | 350.060553386 |\n",
      "|     sqft_lot     |  None |      0.0      |\n",
      "|  sqft_lot_sqrt   |  None |      0.0      |\n",
      "|      floors      |  None |      0.0      |\n",
      "|  floors_square   |  None |      0.0      |\n",
      "|    waterfront    |  None |      0.0      |\n",
      "|       view       |  None |      0.0      |\n",
      "|    condition     |  None |      0.0      |\n",
      "|      grade       |  None | 842.068034898 |\n",
      "|    sqft_above    |  None | 20.0247224171 |\n",
      "|  sqft_basement   |  None |      0.0      |\n",
      "|     yr_built     |  None |      0.0      |\n",
      "|   yr_renovated   |  None |      0.0      |\n",
      "+------------------+-------+---------------+\n",
      "[18 rows x 3 columns]\n",
      "\n"
     ]
    }
   ],
   "source": [
    "model_all.coefficients.print_rows(18, 3)\n"
   ]
  },
  {
   "cell_type": "markdown",
   "metadata": {},
   "source": [
    "Note that a majority of the weights have been set to zero. So by setting an L1 penalty that's large enough, we are performing a subset selection. \n",
    "\n",
    "***QUIZ QUESTION***:\n",
    "According to this list of weights, which of the features have been chosen? "
   ]
  },
  {
   "cell_type": "markdown",
   "metadata": {},
   "source": [
    "# Selecting an L1 penalty"
   ]
  },
  {
   "cell_type": "markdown",
   "metadata": {},
   "source": [
    "To find a good L1 penalty, we will explore multiple values using a validation set. Let us do three way split into train, validation, and test sets:\n",
    "* Split our sales data into 2 sets: training and test\n",
    "* Further split our training data into two sets: train, validation\n",
    "\n",
    "Be *very* careful that you use seed = 1 to ensure you get the same answer!"
   ]
  },
  {
   "cell_type": "code",
   "execution_count": 8,
   "metadata": {
    "collapsed": true
   },
   "outputs": [],
   "source": [
    "(training_and_validation, testing) = sales.random_split(.9,seed=1) # initial train/test split\n",
    "(training, validation) = training_and_validation.random_split(0.5, seed=1) # split training into train and validate"
   ]
  },
  {
   "cell_type": "markdown",
   "metadata": {},
   "source": [
    "Next, we write a loop that does the following:\n",
    "* For `l1_penalty` in [10^1, 10^1.5, 10^2, 10^2.5, ..., 10^7] (to get this in Python, type `np.logspace(1, 7, num=13)`.)\n",
    "    * Fit a regression model with a given `l1_penalty` on TRAIN data. Specify `l1_penalty=l1_penalty` and `l2_penalty=0.` in the parameter list.\n",
    "    * Compute the RSS on VALIDATION data (here you will want to use `.predict()`) for that `l1_penalty`\n",
    "* Report which `l1_penalty` produced the lowest RSS on validation data.\n",
    "\n",
    "When you call `linear_regression.create()` make sure you set `validation_set = None`.\n",
    "\n",
    "Note: you can turn off the print out of `linear_regression.create()` with `verbose = False`"
   ]
  },
  {
   "cell_type": "code",
   "execution_count": null,
   "metadata": {
    "collapsed": true
   },
   "outputs": [],
   "source": [
    "def polynomial_lasso_regression(data, deg, l1_penalty):\n",
    "    model = graphlab.linear_regression.create(polynomial_features(data,deg), \n",
    "                                              target='Y', l2_penalty=0.,\n",
    "                                              l1_penalty=l1_penalty,\n",
    "                                              validation_set=None, \n",
    "                                              solver='fista', verbose=False,\n",
    "                                              max_iterations=3000, convergence_threshold=1e-10)\n",
    "    return model"
   ]
  },
  {
   "cell_type": "code",
   "execution_count": 9,
   "metadata": {
    "collapsed": true
   },
   "outputs": [],
   "source": [
    "L1_array = np.logspace(1, 7, num=13)"
   ]
  },
  {
   "cell_type": "code",
   "execution_count": 38,
   "metadata": {
    "collapsed": false
   },
   "outputs": [],
   "source": [
    "L1_array = np.logspace(1, 7, num=13)\n",
    "RSS = []\n",
    "\n",
    "\n",
    "for l1_penalty in L1_array:\n",
    "    model_all = graphlab.linear_regression.create(training, target='price', features=all_features,\n",
    "                                              validation_set=None, \n",
    "                                              l2_penalty=0., l1_penalty=l1_penalty, verbose = False)\n",
    "    RSS.append(((validation['price'] - model_all.predict(validation))**2).sum())\n"
   ]
  },
  {
   "cell_type": "code",
   "execution_count": 40,
   "metadata": {
    "collapsed": false
   },
   "outputs": [
    {
     "name": "stdout",
     "output_type": "stream",
     "text": [
      "l1 seleccionada:   10.0\n",
      "valor min de RSS:  6.25766285142e+14\n"
     ]
    }
   ],
   "source": [
    "selected_l1_penalty  = L1_array[RSS.index(min(RSS))] \n",
    "print 'l1 seleccionada:   '+ str(selected_l1_penalty)\n",
    "print 'valor min de RSS:  '+ str(min(RSS))"
   ]
  },
  {
   "cell_type": "code",
   "execution_count": 41,
   "metadata": {
    "collapsed": true
   },
   "outputs": [],
   "source": [
    "model_selected = graphlab.linear_regression.create(training, target='price', features=all_features,\n",
    "                                              validation_set=None, \n",
    "                                              l2_penalty=0., l1_penalty=10, verbose = False)"
   ]
  },
  {
   "cell_type": "code",
   "execution_count": 42,
   "metadata": {
    "collapsed": false
   },
   "outputs": [
    {
     "name": "stdout",
     "output_type": "stream",
     "text": [
      "number of nonzeros = 18\n"
     ]
    }
   ],
   "source": [
    " print 'number of nonzeros = %d' % (model_selected.coefficients['value']).nnz()"
   ]
  },
  {
   "cell_type": "code",
   "execution_count": 43,
   "metadata": {
    "collapsed": false
   },
   "outputs": [
    {
     "name": "stdout",
     "output_type": "stream",
     "text": [
      "+------------------+-------+--------------------+\n",
      "|       name       | index |       value        |\n",
      "+------------------+-------+--------------------+\n",
      "|   (intercept)    |  None |   19604.7163508    |\n",
      "|     bedrooms     |  None |   7922.62023075    |\n",
      "| bedrooms_square  |  None |   928.112147889    |\n",
      "|    bathrooms     |  None |    25392.743443    |\n",
      "|   sqft_living    |  None |   39.1083048767    |\n",
      "| sqft_living_sqrt |  None |   1123.95233925    |\n",
      "|     sqft_lot     |  None | -0.000823987151992 |\n",
      "|  sqft_lot_sqrt   |  None |   147.859054391    |\n",
      "|      floors      |  None |    21154.353574    |\n",
      "|  floors_square   |  None |    12871.042877    |\n",
      "|    waterfront    |  None |   598538.378522    |\n",
      "|       view       |  None |   93089.3048849    |\n",
      "|    condition     |  None |   6584.64358167    |\n",
      "|      grade       |  None |   6200.37319739    |\n",
      "|    sqft_above    |  None |   43.2627983054    |\n",
      "|  sqft_basement   |  None |   122.027231745    |\n",
      "|     yr_built     |  None |   9.39509533202    |\n",
      "|   yr_renovated   |  None |   55.3271344922    |\n",
      "+------------------+-------+--------------------+\n",
      "[18 rows x 3 columns]\n",
      "\n"
     ]
    }
   ],
   "source": [
    "model_all.coefficients.print_rows(18, 3)"
   ]
  },
  {
   "cell_type": "markdown",
   "metadata": {},
   "source": [
    "*** QUIZ QUESTIONS ***\n",
    "1. What was the best value for the `l1_penalty`? 10\n",
    "2. What is the RSS on TEST data of the model with the best `l1_penalty`? valor min de RSS:  6.30973667812e+14"
   ]
  },
  {
   "cell_type": "code",
   "execution_count": null,
   "metadata": {
    "collapsed": false
   },
   "outputs": [],
   "source": []
  },
  {
   "cell_type": "markdown",
   "metadata": {},
   "source": [
    "***QUIZ QUESTION***\n",
    "Also, using this value of L1 penalty, how many nonzero weights do you have? : 18"
   ]
  },
  {
   "cell_type": "code",
   "execution_count": null,
   "metadata": {
    "collapsed": false
   },
   "outputs": [],
   "source": []
  },
  {
   "cell_type": "markdown",
   "metadata": {},
   "source": [
    "# Limit the number of nonzero weights\n",
    "\n",
    "What if we absolutely wanted to limit ourselves to, say, 7 features? This may be important if we want to derive \"a rule of thumb\" --- an interpretable model that has only a few features in them."
   ]
  },
  {
   "cell_type": "markdown",
   "metadata": {},
   "source": [
    "In this section, you are going to implement a simple, two phase procedure to achive this goal:\n",
    "1. Explore a large range of `l1_penalty` values to find a narrow region of `l1_penalty` values where models are likely to have the desired number of non-zero weights.\n",
    "2. Further explore the narrow region you found to find a good value for `l1_penalty` that achieves the desired sparsity.  Here, we will again use a validation set to choose the best value for `l1_penalty`."
   ]
  },
  {
   "cell_type": "code",
   "execution_count": null,
   "metadata": {
    "collapsed": true
   },
   "outputs": [],
   "source": [
    "max_nonzeros = 7"
   ]
  },
  {
   "cell_type": "markdown",
   "metadata": {},
   "source": [
    "## Exploring the larger range of values to find a narrow range with the desired sparsity\n",
    "\n",
    "Let's define a wide range of possible `l1_penalty_values`:"
   ]
  },
  {
   "cell_type": "code",
   "execution_count": 31,
   "metadata": {
    "collapsed": false
   },
   "outputs": [],
   "source": [
    "l1_penalty_values = np.logspace(8, 10, num=20)"
   ]
  },
  {
   "cell_type": "markdown",
   "metadata": {},
   "source": [
    "Now, implement a loop that search through this space of possible `l1_penalty` values:\n",
    "\n",
    "* For `l1_penalty` in `np.logspace(8, 10, num=20)`:\n",
    "    * Fit a regression model with a given `l1_penalty` on TRAIN data. Specify `l1_penalty=l1_penalty` and `l2_penalty=0.` in the parameter list. When you call `linear_regression.create()` make sure you set `validation_set = None`\n",
    "    * Extract the weights of the model and count the number of nonzeros. Save the number of nonzeros to a list.\n",
    "        * *Hint: `model['coefficients']['value']` gives you an SArray with the parameters you learned.  If you call the method `.nnz()` on it, you will find the number of non-zero parameters!* "
   ]
  },
  {
   "cell_type": "code",
   "execution_count": 50,
   "metadata": {
    "collapsed": false
   },
   "outputs": [
    {
     "name": "stdout",
     "output_type": "stream",
     "text": [
      "number of nonzeros = 18\n",
      "l1_penalty = 100000000\n",
      "l1_penalty_minima = 7847599703\n",
      "number of nonzeros = 18\n",
      "l1_penalty = 127427498\n",
      "l1_penalty_minima = 7847599703\n",
      "number of nonzeros = 18\n",
      "l1_penalty = 162377673\n",
      "l1_penalty_minima = 7847599703\n",
      "number of nonzeros = 18\n",
      "l1_penalty = 206913808\n",
      "l1_penalty_minima = 7847599703\n",
      "number of nonzeros = 17\n",
      "l1_penalty = 263665089\n",
      "l1_penalty_minima = 263665089\n",
      "number of nonzeros = 17\n",
      "l1_penalty = 335981828\n",
      "l1_penalty_minima = 263665089\n",
      "number of nonzeros = 17\n",
      "l1_penalty = 428133239\n",
      "l1_penalty_minima = 263665089\n",
      "number of nonzeros = 17\n",
      "l1_penalty = 545559478\n",
      "l1_penalty_minima = 263665089\n",
      "number of nonzeros = 17\n",
      "l1_penalty = 695192796\n",
      "l1_penalty_minima = 263665089\n",
      "number of nonzeros = 16\n",
      "l1_penalty = 885866790\n",
      "l1_penalty_minima = 885866790\n",
      "number of nonzeros = 15\n",
      "l1_penalty = 1128837891\n",
      "l1_penalty_minima = 1128837891\n",
      "number of nonzeros = 15\n",
      "l1_penalty = 1438449888\n",
      "l1_penalty_minima = 1128837891\n",
      "number of nonzeros = 13\n",
      "l1_penalty = 1832980710\n",
      "l1_penalty_minima = 1832980710\n",
      "number of nonzeros = 12\n",
      "l1_penalty = 2335721469\n",
      "l1_penalty_minima = 2335721469\n",
      "number of nonzeros = 10\n",
      "l1_penalty = 2976351441\n",
      "l1_penalty_minima = 2976351441\n",
      "number of nonzeros = 6\n",
      "l1_penalty = 3792690190\n",
      "l1_penalty_minima = 3792690190\n",
      "number of nonzeros = 5\n",
      "l1_penalty = 4832930238\n",
      "l1_penalty_minima = 4832930238\n",
      "number of nonzeros = 3\n",
      "l1_penalty = 6158482110\n",
      "l1_penalty_minima = 6158482110\n",
      "number of nonzeros = 1\n",
      "l1_penalty = 7847599703\n",
      "l1_penalty_minima = 7847599703\n",
      "number of nonzeros = 1\n",
      "l1_penalty = 10000000000\n",
      "l1_penalty_minima = 7847599703\n"
     ]
    }
   ],
   "source": [
    "num_non_zeros = 18\n",
    "for l1_penalty2 in l1_penalty_values:\n",
    "    modelPenRang = graphlab.linear_regression.create(training, target='price', features=all_features,\n",
    "                                              validation_set=None, \n",
    "                                              l2_penalty=0., l1_penalty=l1_penalty2, verbose = False)\n",
    "    print 'number of nonzeros = %d' % (modelPenRang.coefficients['value']).nnz()\n",
    "    print 'l1_penalty = %d' %(l1_penalty2)\n",
    "    temp = num_non_zeros\n",
    "    num_non_zeros = modelPenRang['coefficients']['value'].nnz()\n",
    "    if num_non_zeros < temp:\n",
    "        l1_penalty_min = l1_penalty2\n",
    "    else :\n",
    "        pass\n",
    "    print 'l1_penalty_minima = %d' %(l1_penalty_min)\n",
    "    #RSS.append(((validation['price'] - model_all.predict(validation))**2).sum())"
   ]
  },
  {
   "cell_type": "code",
   "execution_count": null,
   "metadata": {
    "collapsed": true
   },
   "outputs": [],
   "source": [
    "#number of nonzeros = 10\n",
    "#l1_penalty = 2976351441\n",
    "#l1_penalty_minima = 2976351441\n",
    "#number of nonzeros = 6\n",
    "#l1_penalty = 3792690190"
   ]
  },
  {
   "cell_type": "code",
   "execution_count": 35,
   "metadata": {
    "collapsed": false
   },
   "outputs": [
    {
     "name": "stdout",
     "output_type": "stream",
     "text": [
      "L1 min : 10000000000.0\n",
      "L1 max : 428133239.872\n"
     ]
    }
   ],
   "source": [
    "print 'L1 min : ' + str(l1_penalty_min)\n",
    "\n",
    "print 'L1 max : ' + str(l1_penalty_max)"
   ]
  },
  {
   "cell_type": "markdown",
   "metadata": {},
   "source": [
    "Out of this large range, we want to find the two ends of our desired narrow range of `l1_penalty`.  At one end, we will have `l1_penalty` values that have too few non-zeros, and at the other end, we will have an `l1_penalty` that has too many non-zeros.  \n",
    "\n",
    "More formally, find:\n",
    "* The largest `l1_penalty` that has more non-zeros than `max_nonzero` (if we pick a penalty smaller than this value, we will definitely have too many non-zero weights)\n",
    "    * Store this value in the variable `l1_penalty_min` (we will use it later)\n",
    "* The smallest `l1_penalty` that has fewer non-zeros than `max_nonzero` (if we pick a penalty larger than this value, we will definitely have too few non-zero weights)\n",
    "    * Store this value in the variable `l1_penalty_max` (we will use it later)\n",
    "\n",
    "\n",
    "*Hint: there are many ways to do this, e.g.:*\n",
    "* Programmatically within the loop above\n",
    "* Creating a list with the number of non-zeros for each value of `l1_penalty` and inspecting it to find the appropriate boundaries."
   ]
  },
  {
   "cell_type": "code",
   "execution_count": 55,
   "metadata": {
    "collapsed": true
   },
   "outputs": [],
   "source": [
    "model_selected = graphlab.linear_regression.create(training, target='price', features=all_features,\n",
    "                                              validation_set=None, \n",
    "                                              l2_penalty=0., l1_penalty= 2976351441, verbose = False)"
   ]
  },
  {
   "cell_type": "code",
   "execution_count": 56,
   "metadata": {
    "collapsed": false
   },
   "outputs": [
    {
     "name": "stdout",
     "output_type": "stream",
     "text": [
      "+------------------+-------+---------------+\n",
      "|       name       | index |     value     |\n",
      "+------------------+-------+---------------+\n",
      "|   (intercept)    |  None | 196100.937806 |\n",
      "|     bedrooms     |  None | 2181.57432107 |\n",
      "| bedrooms_square  |  None |      0.0      |\n",
      "|    bathrooms     |  None | 17962.6966612 |\n",
      "|   sqft_living    |  None | 34.1424656512 |\n",
      "| sqft_living_sqrt |  None | 789.319789078 |\n",
      "|     sqft_lot     |  None |      0.0      |\n",
      "|  sqft_lot_sqrt   |  None |      0.0      |\n",
      "|      floors      |  None |  3665.9308176 |\n",
      "|  floors_square   |  None |      0.0      |\n",
      "|    waterfront    |  None |      0.0      |\n",
      "|       view       |  None | 11333.8410308 |\n",
      "|    condition     |  None |      0.0      |\n",
      "|      grade       |  None | 3578.90040044 |\n",
      "|    sqft_above    |  None | 32.7432013718 |\n",
      "|  sqft_basement   |  None | 12.7953811359 |\n",
      "|     yr_built     |  None |      0.0      |\n",
      "|   yr_renovated   |  None |      0.0      |\n",
      "+------------------+-------+---------------+\n",
      "[18 rows x 3 columns]\n",
      "\n"
     ]
    }
   ],
   "source": [
    "model_selected.coefficients.print_rows(18, 3)"
   ]
  },
  {
   "cell_type": "code",
   "execution_count": null,
   "metadata": {
    "collapsed": true
   },
   "outputs": [],
   "source": [
    "l1_penalty_min = \n",
    "l1_penalty_max = "
   ]
  },
  {
   "cell_type": "markdown",
   "metadata": {},
   "source": [
    "***QUIZ QUESTIONS***\n",
    "\n",
    "What values did you find for `l1_penalty_min` and`l1_penalty_max`? "
   ]
  },
  {
   "cell_type": "markdown",
   "metadata": {},
   "source": [
    "## Exploring the narrow range of values to find the solution with the right number of non-zeros that has lowest RSS on the validation set \n",
    "\n",
    "We will now explore the narrow region of `l1_penalty` values we found:"
   ]
  },
  {
   "cell_type": "code",
   "execution_count": 159,
   "metadata": {
    "collapsed": false
   },
   "outputs": [
    {
     "name": "stdout",
     "output_type": "stream",
     "text": [
      "number of nonzeros = 8\n",
      "l1_penalty = 3413023615\n",
      "number of nonzeros = 7\n",
      "l1_penalty = 3423615912\n",
      "number of nonzeros = 7\n",
      "l1_penalty = 3434208208\n",
      "number of nonzeros = 7\n",
      "l1_penalty = 3444800504\n",
      "number of nonzeros = 7\n",
      "l1_penalty = 3455392801\n",
      "number of nonzeros = 7\n",
      "l1_penalty = 3465985097\n",
      "number of nonzeros = 7\n",
      "l1_penalty = 3476577394\n",
      "number of nonzeros = 7\n",
      "l1_penalty = 3487169690\n",
      "number of nonzeros = 7\n",
      "l1_penalty = 3497761986\n",
      "number of nonzeros = 7\n",
      "l1_penalty = 3508354283\n",
      "number of nonzeros = 7\n",
      "l1_penalty = 3518946579\n",
      "number of nonzeros = 7\n",
      "l1_penalty = 3529538875\n",
      "number of nonzeros = 7\n",
      "l1_penalty = 3540131172\n",
      "number of nonzeros = 7\n",
      "l1_penalty = 3550723468\n",
      "number of nonzeros = 7\n",
      "l1_penalty = 3561315765\n",
      "number of nonzeros = 7\n",
      "l1_penalty = 3571908061\n",
      "number of nonzeros = 7\n",
      "l1_penalty = 3582500357\n",
      "number of nonzeros = 7\n",
      "l1_penalty = 3593092654\n",
      "number of nonzeros = 7\n",
      "l1_penalty = 3603684950\n",
      "number of nonzeros = 7\n",
      "l1_penalty = 3614277247\n"
     ]
    }
   ],
   "source": [
    "#number of nonzeros = 7\n",
    "#l1_penalty limite inferior = 3413023616 confirmado \n",
    "#l1_penalty limite superior = 3614277247 confirmado\n",
    "\n",
    "\n",
    "\n",
    "l1_penalty_min = 3413023615\n",
    "l1_penalty_max = 3614277247\n",
    "#3614277878\n",
    "\n",
    "l1_penalty_values = np.linspace(l1_penalty_min,l1_penalty_max,20)\n",
    "\n",
    "for l1_penalty3 in l1_penalty_values:\n",
    "    modelPenRang = graphlab.linear_regression.create(training, target='price', features=all_features,\n",
    "                                              validation_set=None, \n",
    "                                              l2_penalty=0., l1_penalty=l1_penalty3, verbose = False)\n",
    "    print 'number of nonzeros = %d' % (modelPenRang.coefficients['value']).nnz()\n",
    "    print 'l1_penalty = %d' %(l1_penalty3)\n",
    "    \n"
   ]
  },
  {
   "cell_type": "code",
   "execution_count": 152,
   "metadata": {
    "collapsed": true
   },
   "outputs": [],
   "source": [
    "# calculo de RSS en Validation set:\n",
    "\n",
    "RSS = []\n",
    "#crss =[]\n",
    "for l1_penalty in l1_penalty_values:\n",
    "    model_all = graphlab.linear_regression.create(validation, target='price', features=all_features,\n",
    "                                              validation_set=None, \n",
    "                                              l2_penalty=0., l1_penalty=l1_penalty, verbose = False)\n",
    "    RSS.append(((validation['price'] - model_all.predict(validation))**2).sum())\n",
    "    #crss.append([l1_penalty,((validation['price'] - model_all.predict(validation))**2).sum()]) # Para confirmar cuplas l1,rss\n",
    "\n",
    "\n"
   ]
  },
  {
   "cell_type": "code",
   "execution_count": 153,
   "metadata": {
    "collapsed": false
   },
   "outputs": [
    {
     "data": {
      "text/plain": [
       "[[3413023616.0, 1092600814292296.4],\n",
       " [3423615912.3684211, 1094082958492131.1],\n",
       " [3434208208.7368422, 1095568272419895.0],\n",
       " [3444800505.1052632, 1097056756075587.5],\n",
       " [3455392801.4736843, 1098548409459209.2],\n",
       " [3465985097.8421054, 1099945333928013.9],\n",
       " [3476577394.2105265, 1101032289091512.6],\n",
       " [3487169690.5789475, 1102120696692803.4],\n",
       " [3497761986.9473686, 1103210504122582.9],\n",
       " [3508354283.3157897, 1104301737668270.0],\n",
       " [3518946579.6842108, 1105418369013353.8],\n",
       " [3529538876.0526314, 1106599251575320.4],\n",
       " [3540131172.4210525, 1107781820168473.2],\n",
       " [3550723468.7894735, 1108968510271689.5],\n",
       " [3561315765.1578946, 1110158641264155.2],\n",
       " [3571908061.5263157, 1111350469370597.2],\n",
       " [3582500357.8947368, 1112543994591015.8],\n",
       " [3593092654.2631578, 1113739216925409.5],\n",
       " [3603684950.6315789, 1114936136373780.2],\n",
       " [3614277247.0, 1116134752936127.5]]"
      ]
     },
     "execution_count": 153,
     "metadata": {},
     "output_type": "execute_result"
    }
   ],
   "source": [
    "crss"
   ]
  },
  {
   "cell_type": "code",
   "execution_count": 145,
   "metadata": {
    "collapsed": false
   },
   "outputs": [
    {
     "name": "stdout",
     "output_type": "stream",
     "text": [
      "l1 seleccionada:   3413023616.0\n",
      "valor min de RSS= 1092600814292296\n"
     ]
    }
   ],
   "source": [
    "selected_l1_penalty  = l1_penalty_values[RSS.index(min(RSS))] \n",
    "print 'l1 seleccionada:   '+ str(selected_l1_penalty)\n",
    "print 'valor min de RSS= %d' %(min(RSS))\n"
   ]
  },
  {
   "cell_type": "code",
   "execution_count": 147,
   "metadata": {
    "collapsed": false
   },
   "outputs": [
    {
     "data": {
      "text/plain": [
       "array([  3.40600341e+09,   3.41696519e+09,   3.42792698e+09,\n",
       "         3.43888876e+09,   3.44985054e+09,   3.46081232e+09,\n",
       "         3.47177410e+09,   3.48273588e+09,   3.49369766e+09,\n",
       "         3.50465944e+09,   3.51562122e+09,   3.52658300e+09,\n",
       "         3.53754478e+09,   3.54850656e+09,   3.55946834e+09,\n",
       "         3.57043012e+09,   3.58139190e+09,   3.59235369e+09,\n",
       "         3.60331547e+09,   3.61427725e+09])"
      ]
     },
     "execution_count": 147,
     "metadata": {},
     "output_type": "execute_result"
    }
   ],
   "source": [
    "l1_penalty_values"
   ]
  },
  {
   "cell_type": "code",
   "execution_count": 148,
   "metadata": {
    "collapsed": false
   },
   "outputs": [
    {
     "data": {
      "text/plain": [
       "[1092600814292296.4,\n",
       " 1094082958492131.1,\n",
       " 1095568272419895.0,\n",
       " 1097056756075587.5,\n",
       " 1098548409459209.2,\n",
       " 1099945333928013.9,\n",
       " 1101032289091512.6,\n",
       " 1102120696692803.4,\n",
       " 1103210504122582.9,\n",
       " 1104301737668270.0,\n",
       " 1105418369013353.8,\n",
       " 1106599251575320.4,\n",
       " 1107781820168473.2,\n",
       " 1108968510271689.5,\n",
       " 1110158641264155.2,\n",
       " 1111350469370597.2,\n",
       " 1112543994591015.8,\n",
       " 1113739216925409.5,\n",
       " 1114936136373780.2,\n",
       " 1116134752936127.5]"
      ]
     },
     "execution_count": 148,
     "metadata": {},
     "output_type": "execute_result"
    }
   ],
   "source": [
    "RSS"
   ]
  },
  {
   "cell_type": "code",
   "execution_count": null,
   "metadata": {
    "collapsed": true
   },
   "outputs": [],
   "source": [
    "# antes\n",
    "#l1 seleccionada:   3406003414.0\n",
    "#valor min de RSS= 1091620231990951"
   ]
  },
  {
   "cell_type": "code",
   "execution_count": 63,
   "metadata": {
    "collapsed": false
   },
   "outputs": [
    {
     "name": "stdout",
     "output_type": "stream",
     "text": [
      "+------------------+-------+---------------+\n",
      "|       name       | index |     value     |\n",
      "+------------------+-------+---------------+\n",
      "|   (intercept)    |  None | 234459.799722 |\n",
      "|     bedrooms     |  None | 33.9774634621 |\n",
      "| bedrooms_square  |  None |      0.0      |\n",
      "|    bathrooms     |  None | 13507.9845961 |\n",
      "|   sqft_living    |  None |  28.627476905 |\n",
      "| sqft_living_sqrt |  None | 613.538510434 |\n",
      "|     sqft_lot     |  None |      0.0      |\n",
      "|  sqft_lot_sqrt   |  None |      0.0      |\n",
      "|      floors      |  None |      0.0      |\n",
      "|  floors_square   |  None |      0.0      |\n",
      "|    waterfront    |  None |      0.0      |\n",
      "|       view       |  None |      0.0      |\n",
      "|    condition     |  None |      0.0      |\n",
      "|      grade       |  None | 2643.19459258 |\n",
      "|    sqft_above    |  None |  25.103285184 |\n",
      "|  sqft_basement   |  None |      0.0      |\n",
      "|     yr_built     |  None |      0.0      |\n",
      "|   yr_renovated   |  None |      0.0      |\n",
      "+------------------+-------+---------------+\n",
      "[18 rows x 3 columns]\n",
      "\n"
     ]
    }
   ],
   "source": [
    "model_all.coefficients.print_rows(18, 3)"
   ]
  },
  {
   "cell_type": "markdown",
   "metadata": {},
   "source": [
    "* For `l1_penalty` in `np.linspace(l1_penalty_min,l1_penalty_max,20)`:\n",
    "    * Fit a regression model with a given `l1_penalty` on TRAIN data. Specify `l1_penalty=l1_penalty` and `l2_penalty=0.` in the parameter list. When you call `linear_regression.create()` make sure you set `validation_set = None`\n",
    "    * Measure the RSS of the learned model on the VALIDATION set\n",
    "\n",
    "Find the model that the lowest RSS on the VALIDATION set and has sparsity *equal* to `max_nonzero`."
   ]
  },
  {
   "cell_type": "code",
   "execution_count": null,
   "metadata": {
    "collapsed": true
   },
   "outputs": [],
   "source": []
  },
  {
   "cell_type": "markdown",
   "metadata": {},
   "source": [
    "***QUIZ QUESTIONS***\n",
    "1. What value of `l1_penalty` in our narrow range has the lowest RSS on the VALIDATION set and has sparsity *equal* to `max_nonzeros`?\n",
    "2. What features in this model have non-zero coefficients?"
   ]
  },
  {
   "cell_type": "code",
   "execution_count": null,
   "metadata": {
    "collapsed": false
   },
   "outputs": [],
   "source": []
  }
 ],
 "metadata": {
  "kernelspec": {
   "display_name": "Python 2",
   "language": "python",
   "name": "python2"
  },
  "language_info": {
   "codemirror_mode": {
    "name": "ipython",
    "version": 2
   },
   "file_extension": ".py",
   "mimetype": "text/x-python",
   "name": "python",
   "nbconvert_exporter": "python",
   "pygments_lexer": "ipython2",
   "version": "2.7.10"
  }
 },
 "nbformat": 4,
 "nbformat_minor": 0
}
