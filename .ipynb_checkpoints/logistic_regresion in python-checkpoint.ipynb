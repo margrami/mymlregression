{
 "cells": [
  {
   "cell_type": "code",
   "execution_count": 1,
   "metadata": {
    "collapsed": true
   },
   "outputs": [],
   "source": [
    "import numpy as np\n",
    "\n"
   ]
  },
  {
   "cell_type": "code",
   "execution_count": 2,
   "metadata": {
    "collapsed": true
   },
   "outputs": [],
   "source": [
    "import matplotlib.pyplot as plt\n",
    "%matplotlib inline"
   ]
  },
  {
   "cell_type": "code",
   "execution_count": 3,
   "metadata": {
    "collapsed": true
   },
   "outputs": [],
   "source": [
    "import scipy.optimize as op\n"
   ]
  },
  {
   "cell_type": "code",
   "execution_count": 4,
   "metadata": {
    "collapsed": false
   },
   "outputs": [],
   "source": [
    "data = np.loadtxt('ex2data1.txt', delimiter=',')"
   ]
  },
  {
   "cell_type": "code",
   "execution_count": 5,
   "metadata": {
    "collapsed": false
   },
   "outputs": [],
   "source": [
    "# data, esta es toda la muestra que servira para entrenamiento.\n",
    "X = data[:, 0:2]\n",
    "y = data[:, 2]"
   ]
  },
  {
   "cell_type": "code",
   "execution_count": 6,
   "metadata": {
    "collapsed": false
   },
   "outputs": [],
   "source": [
    "# Se va a anhadir una columna de 1´s a la matrix de features X, esto tiene el sentido de un x0, cuando la frontera es lineal\n",
    "X_p = np.append(np.ones([len(X),1]), X,1)"
   ]
  },
  {
   "cell_type": "code",
   "execution_count": 7,
   "metadata": {
    "collapsed": false
   },
   "outputs": [
    {
     "data": {
      "text/plain": [
       "[<matplotlib.lines.Line2D at 0xaa09f60>]"
      ]
     },
     "execution_count": 7,
     "metadata": {},
     "output_type": "execute_result"
    },
    {
     "data": {
      "image/png": "[encoded data removed]",
      "text/plain": [
       "<matplotlib.figure.Figure at 0xa5aa198>"
      ]
     },
     "metadata": {},
     "output_type": "display_data"
    }
   ],
   "source": [
    "plt.plot(X[:, 0], X[:, 1], '.')"
   ]
  },
  {
   "cell_type": "code",
   "execution_count": 8,
   "metadata": {
    "collapsed": false
   },
   "outputs": [
    {
     "ename": "NameError",
     "evalue": "name 'legend' is not defined",
     "output_type": "error",
     "traceback": [
      "\u001b[1;31m---------------------------------------------------------------------------\u001b[0m",
      "\u001b[1;31mNameError\u001b[0m                                 Traceback (most recent call last)",
      "\u001b[1;32m<ipython-input-8-6604dc0f3de3>\u001b[0m in \u001b[0;36m<module>\u001b[1;34m()\u001b[0m\n\u001b[0;32m      6\u001b[0m \u001b[0mplt\u001b[0m\u001b[1;33m.\u001b[0m\u001b[0mxlabel\u001b[0m\u001b[1;33m(\u001b[0m\u001b[1;34m'Exam 1 score'\u001b[0m\u001b[1;33m)\u001b[0m\u001b[1;33m\u001b[0m\u001b[0m\n\u001b[0;32m      7\u001b[0m \u001b[0mplt\u001b[0m\u001b[1;33m.\u001b[0m\u001b[0mylabel\u001b[0m\u001b[1;33m(\u001b[0m\u001b[1;34m'Exam 2 score'\u001b[0m\u001b[1;33m)\u001b[0m\u001b[1;33m\u001b[0m\u001b[0m\n\u001b[1;32m----> 8\u001b[1;33m \u001b[0mlegend\u001b[0m\u001b[1;33m(\u001b[0m\u001b[1;33m[\u001b[0m\u001b[1;34m'Admitted'\u001b[0m\u001b[1;33m,\u001b[0m \u001b[1;34m'Not Admitted'\u001b[0m\u001b[1;33m]\u001b[0m\u001b[1;33m)\u001b[0m\u001b[1;33m\u001b[0m\u001b[0m\n\u001b[0m",
      "\u001b[1;31mNameError\u001b[0m: name 'legend' is not defined"
     ]
    },
    {
     "data": {
      "image/png": "[encoded data removed]",
      "text/plain": [
       "<matplotlib.figure.Figure at 0xa982c88>"
      ]
     },
     "metadata": {},
     "output_type": "display_data"
    }
   ],
   "source": [
    "# Con scatter, para anhadir el la grafica que puntajes fueron o no admitidos.\n",
    "pos = np.where(y == 1)\n",
    "neg = np.where(y == 0)\n",
    "plt.scatter(X[pos, 0], X[pos, 1], marker='x', c='b')\n",
    "plt.scatter(X[neg, 0], X[neg, 1], marker='o', c='r')\n",
    "plt.xlabel('Exam 1 score')\n",
    "plt.ylabel('Exam 2 score')\n",
    "legend(['Admitted', 'Not Admitted'])"
   ]
  },
  {
   "cell_type": "code",
   "execution_count": 9,
   "metadata": {
    "collapsed": false
   },
   "outputs": [
    {
     "name": "stdout",
     "output_type": "stream",
     "text": [
      "100 2\n"
     ]
    }
   ],
   "source": [
    "# numero de m - filas, n numero de colunmas \n",
    "m , n = X.shape\n",
    "print m, n"
   ]
  },
  {
   "cell_type": "code",
   "execution_count": 10,
   "metadata": {
    "collapsed": false
   },
   "outputs": [],
   "source": [
    "def sigmoid(x):\n",
    "    return 1 /(1 + np.exp(-x))\n",
    "    "
   ]
  },
  {
   "cell_type": "code",
   "execution_count": 11,
   "metadata": {
    "collapsed": false
   },
   "outputs": [],
   "source": [
    "# Esta es segun la traduccion directa del matlab\n",
    "def logRegresionCostFunction(theta, X, y):\n",
    "    m = np.size(y)\n",
    "    J = -(np.sum(y.transpose() * np.log(sigmoid(np.dot(X, theta))) + (1 - y).transpose()\n",
    "                 * np.log(1 - sigmoid(np.dot(X, theta)))))/m \n",
    "    # calcular el gradiente\n",
    "    z = sigmoid(np.dot(X, theta)) - y\n",
    "    grad = np.dot(X.transpose(), z)/m\n",
    "    return J , grad"
   ]
  },
  {
   "cell_type": "code",
   "execution_count": 12,
   "metadata": {
    "collapsed": false
   },
   "outputs": [],
   "source": [
    "# Esta funcion de costo esta perfecta y los vectores entran directamente. No hay\n",
    "# necesidad de vector colunma para theta\n",
    "def logRegCostFunc(theta, x, y):\n",
    "    m = np.size(y)\n",
    "    #print m, n\n",
    "    #theta = theta.reshape((n,1))\n",
    "    y = y.reshape((m,1))\n",
    "    J = -(np.sum(y.transpose() * np.log(sigmoid(x.dot(theta))) + (1 - y).transpose()\n",
    "                 * np.log(1 - sigmoid(x.dot(theta)))))/m \n",
    " \n",
    "    return J"
   ]
  },
  {
   "cell_type": "code",
   "execution_count": 13,
   "metadata": {
    "collapsed": false
   },
   "outputs": [],
   "source": [
    "# Esta funcion de incluye el factor de regularizacion.  No hay\n",
    "# necesidad de vector colunma para theta.\n",
    "def logRegCostFuncReg(theta, x, y):\n",
    "    thetaR = theta[1:] # Para la regularizacion se debe retirar theta0\n",
    "    def cuadra(x):\n",
    "        return x ** 2 \n",
    "    cuadradosF = map(lambda x: cuadra(x), thetaR)\n",
    "    lam = 3 # lambda se incluye al interior, porque no sé como llamarlo desde el metodo de optimizacion\n",
    "    m = np.size(y)\n",
    "    y = y.reshape((m,1))\n",
    "    thetaR = theta[1:]\n",
    "    J = -(np.sum(y.transpose() * np.log(sigmoid(x.dot(theta))) + (1 - y).transpose()\n",
    "                     * np.log(1 - sigmoid(x.dot(theta)))))/m + (lam * (np.sum(cuadradosF)))/(2.0 * m)\n",
    " \n",
    "    return J"
   ]
  },
  {
   "cell_type": "code",
   "execution_count": 14,
   "metadata": {
    "collapsed": false
   },
   "outputs": [
    {
     "name": "stdout",
     "output_type": "stream",
     "text": [
      "[[1 8 1 6]\n",
      " [1 3 5 7]\n",
      " [1 4 9 2]]\n",
      "[1 0 1]\n",
      "[-2 -1  1  2]\n",
      "7.68316654981\n"
     ]
    }
   ],
   "source": [
    "#test unitario\n",
    "px = np.array([[1, 8, 1, 6] ,[1, 3, 5, 7], [1, 4, 9, 2]])\n",
    "print px\n",
    "py = np.array([1, 0, 1])\n",
    "print py\n",
    "pt = np.array([-2, -1, 1, 2])\n",
    "print pt\n",
    "\n",
    "pj = logRegCostFuncReg(pt, px, py,)\n",
    "print pj"
   ]
  },
  {
   "cell_type": "code",
   "execution_count": 15,
   "metadata": {
    "collapsed": true
   },
   "outputs": [],
   "source": [
    "def gradient(theta,x,y):\n",
    "    m, n = x.shape\n",
    "    theta = theta.reshape((n, 1))\n",
    "    y = y.reshape((m,1))\n",
    "    sigmoid_x_theta = sigmoid(x.dot(theta))\n",
    "    grad = ((x.T).dot(sigmoid_x_theta-y))/m\n",
    "    return grad.flatten();"
   ]
  },
  {
   "cell_type": "code",
   "execution_count": 16,
   "metadata": {
    "collapsed": true
   },
   "outputs": [],
   "source": [
    "# aun no me funciona ......\n",
    "def gradientReg(theta,x,y):\n",
    "    l = 3.0\n",
    "    m, n = x.shape\n",
    "    thetaR = theta[1:] # Para la regularizacion se debe retirar theta0\n",
    "    theta = theta.reshape((n, 1))\n",
    "    y = y.reshape((m,1))\n",
    "    sigmoid_x_theta = sigmoid(x.dot(theta))\n",
    "    grad = ((x.T).dot(sigmoid_x_theta-y))/m\n",
    "    return grad.flatten();"
   ]
  },
  {
   "cell_type": "code",
   "execution_count": 51,
   "metadata": {
    "collapsed": false
   },
   "outputs": [],
   "source": []
  },
  {
   "cell_type": "code",
   "execution_count": 17,
   "metadata": {
    "collapsed": false
   },
   "outputs": [
    {
     "name": "stdout",
     "output_type": "stream",
     "text": [
      "[[1 8 1 6]\n",
      " [1 3 5 7]\n",
      " [1 4 9 2]]\n",
      "[1 0 1]\n",
      "[-2 -1  1  2]\n",
      "7.68316654981\n"
     ]
    },
    {
     "ename": "NameError",
     "evalue": "name 'cost_function_reg' is not defined",
     "output_type": "error",
     "traceback": [
      "\u001b[1;31m---------------------------------------------------------------------------\u001b[0m",
      "\u001b[1;31mNameError\u001b[0m                                 Traceback (most recent call last)",
      "\u001b[1;32m<ipython-input-17-b14ed2f2a4f0>\u001b[0m in \u001b[0;36m<module>\u001b[1;34m()\u001b[0m\n\u001b[0;32m      9\u001b[0m \u001b[0mpj\u001b[0m \u001b[1;33m=\u001b[0m \u001b[0mlogRegCostFuncReg\u001b[0m\u001b[1;33m(\u001b[0m\u001b[0mpt\u001b[0m\u001b[1;33m,\u001b[0m \u001b[0mpx\u001b[0m\u001b[1;33m,\u001b[0m \u001b[0mpy\u001b[0m\u001b[1;33m,\u001b[0m\u001b[1;33m)\u001b[0m\u001b[1;33m\u001b[0m\u001b[0m\n\u001b[0;32m     10\u001b[0m \u001b[1;32mprint\u001b[0m \u001b[0mpj\u001b[0m\u001b[1;33m\u001b[0m\u001b[0m\n\u001b[1;32m---> 11\u001b[1;33m \u001b[0mgrad_j\u001b[0m \u001b[1;33m=\u001b[0m \u001b[0mcost_function_reg\u001b[0m\u001b[1;33m(\u001b[0m\u001b[0mpt\u001b[0m\u001b[1;33m,\u001b[0m \u001b[0mpx\u001b[0m\u001b[1;33m,\u001b[0m \u001b[0mpy\u001b[0m\u001b[1;33m,\u001b[0m \u001b[1;36m3\u001b[0m\u001b[1;33m)\u001b[0m\u001b[1;33m\u001b[0m\u001b[0m\n\u001b[0m\u001b[0;32m     12\u001b[0m \u001b[1;32mprint\u001b[0m \u001b[0mgrad_j\u001b[0m\u001b[1;33m\u001b[0m\u001b[0m\n",
      "\u001b[1;31mNameError\u001b[0m: name 'cost_function_reg' is not defined"
     ]
    }
   ],
   "source": [
    "#test unitario\n",
    "px = np.array([[1, 8, 1, 6] ,[1, 3, 5, 7], [1, 4, 9, 2]])\n",
    "print px\n",
    "py = np.array([1, 0, 1])\n",
    "print py\n",
    "pt = np.array([-2, -1, 1, 2])\n",
    "print pt\n",
    "\n",
    "pj = logRegCostFuncReg(pt, px, py,)\n",
    "print pj\n",
    "grad_j = cost_function_reg(pt, px, py, 3)\n",
    "print grad_j"
   ]
  },
  {
   "cell_type": "code",
   "execution_count": null,
   "metadata": {
    "collapsed": true
   },
   "outputs": [],
   "source": []
  },
  {
   "cell_type": "code",
   "execution_count": 18,
   "metadata": {
    "collapsed": false
   },
   "outputs": [
    {
     "name": "stdout",
     "output_type": "stream",
     "text": [
      "[-2 -1  1  2] [[1 8 1 6]\n",
      " [1 3 5 7]\n",
      " [1 4 9 2]] [1 0 1]\n",
      "Con logRegCostFunc 4.68316654981\n",
      "[ 0.31722075  0.87231544  1.6481235   2.23787228]\n"
     ]
    }
   ],
   "source": [
    "# test unitario\n",
    "theta1 = np.array([-2, -1, 1, 2])\n",
    "X1 = np.array([[1, 8, 1, 6], [1, 3, 5, 7], [1, 4, 9, 2]])\n",
    "y1 = np.array([1, 0, 1])\n",
    "print theta1, X1, y1\n",
    "m = np.size(y1)\n",
    "\n",
    "\n",
    "J = logRegCostFunc(theta1, X1, y1)\n",
    "print 'Con logRegCostFunc', J\n",
    "\n",
    "grad = gradient(theta1, X1, y1)\n",
    "print grad"
   ]
  },
  {
   "cell_type": "code",
   "execution_count": 19,
   "metadata": {
    "collapsed": false
   },
   "outputs": [
    {
     "name": "stdout",
     "output_type": "stream",
     "text": [
      "  status: 1\n",
      " success: True\n",
      "    nfev: 51\n",
      "     fun: 0.20357141274486726\n",
      "       x: array([-25.8738918 ,   0.21193959,   0.20722848])\n",
      " message: 'Converged (|f_n-f_(n-1)| ~= 0)'\n",
      "     jac: array([-0.00020609,  0.00014644, -0.00035043])\n",
      "     nit: 19\n",
      "[-25.8738918    0.21193959   0.20722848]\n"
     ]
    }
   ],
   "source": [
    "# Este metodo de optimizacion de la libreria scipy utiliza el metodo de Newton para encontrar el minimo de la funcion de \n",
    "# costo. Se le debe entregar la funcion de costo (fun) y la funcion gradiente(jac). \n",
    "\n",
    "m , n = X_p.shape\n",
    "initial_theta = np.zeros(n)\n",
    "Result = op.minimize(fun = logRegCostFunc, x0 = initial_theta, args = (X_p, y), method = 'TNC', jac = gradient)\n",
    "optimal_theta = Result.x\n",
    "print Result\n",
    "print optimal_theta"
   ]
  },
  {
   "cell_type": "code",
   "execution_count": 159,
   "metadata": {
    "collapsed": false
   },
   "outputs": [],
   "source": [
    "def predict(theta, x):\n",
    "    p = sigmoid(np.dot(x, theta.transpose()))\n",
    "    #print p\n",
    "    return p > 0.5"
   ]
  },
  {
   "cell_type": "code",
   "execution_count": 21,
   "metadata": {
    "collapsed": false
   },
   "outputs": [
    {
     "name": "stdout",
     "output_type": "stream",
     "text": [
      "probabilidad admission: True\n"
     ]
    }
   ],
   "source": [
    "#test unitario.\n",
    "p1 = predict(optimal_theta, np.array([1, 93, 38]))\n",
    "print \"probabilidad admission:\", p1"
   ]
  },
  {
   "cell_type": "code",
   "execution_count": 23,
   "metadata": {
    "collapsed": false
   },
   "outputs": [
    {
     "name": "stdout",
     "output_type": "stream",
     "text": [
      "[False False False  True  True False  True False  True  True  True False\n",
      "  True  True False  True False False  True  True False  True False False\n",
      "  True  True  True  True False False  True  True False False False False\n",
      "  True  True False False  True False  True  True False False  True  True\n",
      "  True  True  True  True  True False False False  True  True  True  True\n",
      "  True False False False False False  True False  True  True False  True\n",
      "  True  True  True  True  True  True False  True  True  True  True False\n",
      "  True  True False  True  True False  True  True False  True  True  True\n",
      "  True  True False  True]\n"
     ]
    }
   ],
   "source": [
    "# yr es el vector de admisiones calculado\n",
    "m, n = X_p.shape\n",
    "yr = np.zeros(m)\n",
    "yr = predict(optimal_theta, X_p)\n",
    "print yr\n"
   ]
  },
  {
   "cell_type": "code",
   "execution_count": 24,
   "metadata": {
    "collapsed": false
   },
   "outputs": [
    {
     "ename": "NameError",
     "evalue": "name 'legend' is not defined",
     "output_type": "error",
     "traceback": [
      "\u001b[1;31m---------------------------------------------------------------------------\u001b[0m",
      "\u001b[1;31mNameError\u001b[0m                                 Traceback (most recent call last)",
      "\u001b[1;32m<ipython-input-24-bb104ab423dc>\u001b[0m in \u001b[0;36m<module>\u001b[1;34m()\u001b[0m\n\u001b[0;32m      5\u001b[0m \u001b[0mplt\u001b[0m\u001b[1;33m.\u001b[0m\u001b[0mxlabel\u001b[0m\u001b[1;33m(\u001b[0m\u001b[1;34m'Exam 1 score'\u001b[0m\u001b[1;33m)\u001b[0m\u001b[1;33m\u001b[0m\u001b[0m\n\u001b[0;32m      6\u001b[0m \u001b[0mplt\u001b[0m\u001b[1;33m.\u001b[0m\u001b[0mylabel\u001b[0m\u001b[1;33m(\u001b[0m\u001b[1;34m'Exam 2 score'\u001b[0m\u001b[1;33m)\u001b[0m\u001b[1;33m\u001b[0m\u001b[0m\n\u001b[1;32m----> 7\u001b[1;33m \u001b[0mlegend\u001b[0m\u001b[1;33m(\u001b[0m\u001b[1;33m[\u001b[0m\u001b[1;34m'Admitted'\u001b[0m\u001b[1;33m,\u001b[0m \u001b[1;34m'Not Admitted'\u001b[0m\u001b[1;33m]\u001b[0m\u001b[1;33m)\u001b[0m\u001b[1;33m\u001b[0m\u001b[0m\n\u001b[0m",
      "\u001b[1;31mNameError\u001b[0m: name 'legend' is not defined"
     ]
    },
    {
     "data": {
      "image/png": "[encoded data removed]",
      "text/plain": [
       "<matplotlib.figure.Figure at 0x15cfe8d0>"
      ]
     },
     "metadata": {},
     "output_type": "display_data"
    }
   ],
   "source": [
    "pos = np.where(y == 1)\n",
    "neg = np.where(y == 0)\n",
    "plt.scatter(X[pos, 0], X[pos, 1], marker='x', c='b')\n",
    "plt.scatter(X[neg, 0], X[neg, 1], marker='o', c='r')\n",
    "plt.xlabel('Exam 1 score')\n",
    "plt.ylabel('Exam 2 score')\n",
    "legend(['Admitted', 'Not Admitted'])"
   ]
  },
  {
   "cell_type": "code",
   "execution_count": 25,
   "metadata": {
    "collapsed": false
   },
   "outputs": [
    {
     "ename": "NameError",
     "evalue": "name 'legend' is not defined",
     "output_type": "error",
     "traceback": [
      "\u001b[1;31m---------------------------------------------------------------------------\u001b[0m",
      "\u001b[1;31mNameError\u001b[0m                                 Traceback (most recent call last)",
      "\u001b[1;32m<ipython-input-25-033c7368a031>\u001b[0m in \u001b[0;36m<module>\u001b[1;34m()\u001b[0m\n\u001b[0;32m      6\u001b[0m \u001b[0mplt\u001b[0m\u001b[1;33m.\u001b[0m\u001b[0mxlabel\u001b[0m\u001b[1;33m(\u001b[0m\u001b[1;34m'Exam 1 score'\u001b[0m\u001b[1;33m)\u001b[0m\u001b[1;33m\u001b[0m\u001b[0m\n\u001b[0;32m      7\u001b[0m \u001b[0mplt\u001b[0m\u001b[1;33m.\u001b[0m\u001b[0mylabel\u001b[0m\u001b[1;33m(\u001b[0m\u001b[1;34m'Exam 2 score'\u001b[0m\u001b[1;33m)\u001b[0m\u001b[1;33m\u001b[0m\u001b[0m\n\u001b[1;32m----> 8\u001b[1;33m \u001b[0mlegend\u001b[0m\u001b[1;33m(\u001b[0m\u001b[1;33m[\u001b[0m\u001b[1;34m'Admitted'\u001b[0m\u001b[1;33m,\u001b[0m \u001b[1;34m'Not Admitted'\u001b[0m\u001b[1;33m]\u001b[0m\u001b[1;33m)\u001b[0m\u001b[1;33m\u001b[0m\u001b[0m\n\u001b[0m",
      "\u001b[1;31mNameError\u001b[0m: name 'legend' is not defined"
     ]
    },
    {
     "data": {
      "image/png": "[encoded data removed]",
      "text/plain": [
       "<matplotlib.figure.Figure at 0x15d2a518>"
      ]
     },
     "metadata": {},
     "output_type": "display_data"
    }
   ],
   "source": [
    "pos = np.where(yr == 1)\n",
    "neg = np.where(yr == 0)\n",
    "plt.scatter(X[pos, 0], X[pos, 1], marker='x', c='y')\n",
    "plt.scatter(X[neg, 0], X[neg, 1], marker='o', c='r')\n",
    "#plt.plot(X[:, 0], X[:, 1], '.')\n",
    "plt.xlabel('Exam 1 score')\n",
    "plt.ylabel('Exam 2 score')\n",
    "legend(['Admitted', 'Not Admitted'])\n"
   ]
  },
  {
   "cell_type": "markdown",
   "metadata": {},
   "source": [
    "# Segunda Parte - Uso de una hipotesis polinomial - map features\n",
    "\n",
    "Este problema involucra un cambio en la caracteristicas ya que la frontera de decision, (linear decision boundary) no es lineal para este caso. La frontera pareceria mas bien un polinomio de grado superior.\n",
    "\n",
    "Se tienen los resultados de los 2 pruebas que deben pasar un lote de microchips, y usted debe determinar\n",
    "partiendo del resultado de los test si cada uno de los microchips sera aceptado o rechazado. \n",
    "Para ayudarlo a realizar el modelo se tiene un dataset anterior en donde un lote del mismo tipo de microchips\n",
    "se le corrio la misma prueba, con los resultados de \"aceptado\" y \"rechazado\".\n",
    "dataset para entrenamiento: 118 \n",
    "1 acceptadp\n",
    "0 rechazado\n"
   ]
  },
  {
   "cell_type": "code",
   "execution_count": 36,
   "metadata": {
    "collapsed": true
   },
   "outputs": [],
   "source": [
    "data = np.loadtxt('ex2data2.txt', delimiter=',')"
   ]
  },
  {
   "cell_type": "code",
   "execution_count": 134,
   "metadata": {
    "collapsed": false
   },
   "outputs": [
    {
     "data": {
      "text/plain": [
       "<matplotlib.text.Text at 0x19216780>"
      ]
     },
     "execution_count": 134,
     "metadata": {},
     "output_type": "execute_result"
    },
    {
     "data": {
      "image/png": "[encoded data removed]",
      "text/plain": [
       "<matplotlib.figure.Figure at 0x19223ba8>"
      ]
     },
     "metadata": {},
     "output_type": "display_data"
    }
   ],
   "source": [
    "# data, esta es toda la muestra que servira para entrenamiento.\n",
    "X2 = data[:, 0:2]\n",
    "y2 = data[:, 2]\n",
    "#m, n = X2.shape\n",
    "#print m, n\n",
    "\n",
    "plt.plot(X2[:,0],X2[:,1], '.')\n",
    "plt.title('Unlabeled data')\n",
    "plt.xlabel('Test 1')\n",
    "plt.ylabel('Test 2')"
   ]
  },
  {
   "cell_type": "code",
   "execution_count": 136,
   "metadata": {
    "collapsed": false
   },
   "outputs": [
    {
     "data": {
      "text/plain": [
       "<matplotlib.legend.Legend at 0x19854a20>"
      ]
     },
     "execution_count": 136,
     "metadata": {},
     "output_type": "execute_result"
    },
    {
     "data": {
      "image/png": "[encoded data removed]",
      "text/plain": [
       "<matplotlib.figure.Figure at 0x1968cda0>"
      ]
     },
     "metadata": {},
     "output_type": "display_data"
    }
   ],
   "source": [
    "# con scatter\n",
    "\n",
    "pos = np.where(y2 == 1)\n",
    "neg = np.where(y2 == 0)\n",
    "plt.scatter(X2[pos, 0], X2[pos, 1], marker='x', c='b')\n",
    "plt.scatter(X2[neg, 0], X2[neg, 1], marker='o', c='r')\n",
    "plt.title('Labeled data')\n",
    "plt.xlabel('Test 1')\n",
    "plt.ylabel('Test 2')\n",
    "plt.legend(['y = 1', 'y = 0'])"
   ]
  },
  {
   "cell_type": "code",
   "execution_count": 137,
   "metadata": {
    "collapsed": true
   },
   "outputs": [],
   "source": [
    "def mapFeature(x1, x2):\n",
    "    '''\n",
    "    Maps the two input features to quadratic features.\n",
    "    Returns a new feature array with more features, comprising of\n",
    "    X1, X2, X1 ** 2, X2 ** 2, X1*X2, X1*X2 ** 2, etc...\n",
    "    Inputs X1, X2 must be the same size\n",
    "    '''\n",
    "    x1.shape = (x1.size, 1)\n",
    "    x2.shape = (x2.size, 1)\n",
    "    degree = 6\n",
    "    out = np.ones(shape=(x1[:, 0].size, 1))\n",
    "\n",
    "    m, n = out.shape\n",
    "\n",
    "    for i in range(1, degree + 1):\n",
    "        for j in range(i + 1):\n",
    "            r = (x1 ** (i - j)) * (x2 ** j)\n",
    "            out = np.append(out, r, axis=1)\n",
    "\n",
    "    return out\n"
   ]
  },
  {
   "cell_type": "code",
   "execution_count": 140,
   "metadata": {
    "collapsed": false
   },
   "outputs": [
    {
     "name": "stdout",
     "output_type": "stream",
     "text": [
      " 118 28 (118L,)\n"
     ]
    }
   ],
   "source": [
    "# Se pasara de una matrix de caracteristicas (X2) de 2 a 28 caracteristicas\n",
    "new_X = mapFeature(X2[:,0],X2[:,1]) # new_X es una matrix de 28 caracteristicas\n",
    "m,n = new_X.shape\n",
    "print m, n, y2.shape"
   ]
  },
  {
   "cell_type": "code",
   "execution_count": 171,
   "metadata": {
    "collapsed": false
   },
   "outputs": [],
   "source": [
    "initial_theta2 = np.zeros(n)\n",
    "Result = op.minimize(fun = logRegCostFunc, x0 = initial_theta2, args = (new_X, y2), method = 'TNC', jac = gradient)\n",
    "optimal_theta2 = Result.x\n",
    "#print Result\n",
    "#print 'theta optimo: ', optimal_theta2"
   ]
  },
  {
   "cell_type": "code",
   "execution_count": 172,
   "metadata": {
    "collapsed": false
   },
   "outputs": [],
   "source": [
    "# yr es el vector de admisiones calculado\n",
    "m, n = new_X.shape\n",
    "y2r = np.zeros(m)\n",
    "y2r = predict(optimal_theta2, new_X)\n",
    "#print y2r"
   ]
  },
  {
   "cell_type": "code",
   "execution_count": 143,
   "metadata": {
    "collapsed": false
   },
   "outputs": [
    {
     "data": {
      "text/plain": [
       "<matplotlib.legend.Legend at 0x198d3710>"
      ]
     },
     "execution_count": 143,
     "metadata": {},
     "output_type": "execute_result"
    },
    {
     "data": {
      "image/png": "[encoded data removed]",
      "text/plain": [
       "<matplotlib.figure.Figure at 0x192e16d8>"
      ]
     },
     "metadata": {},
     "output_type": "display_data"
    }
   ],
   "source": [
    "# con scatter\n",
    "\n",
    "pos = np.where(y2 == 1)\n",
    "neg = np.where(y2 == 0)\n",
    "plt.scatter(X2[pos, 0], X2[pos, 1], marker='x', c='b')\n",
    "plt.scatter(X2[neg, 0], X2[neg, 1], marker='o', c='r')\n",
    "plt.title('Labeled data, datos entrenamiento')\n",
    "plt.xlabel('Test 1')\n",
    "plt.ylabel('Test 2')\n",
    "plt.legend(['y = 1', 'y = 0'])"
   ]
  },
  {
   "cell_type": "code",
   "execution_count": 144,
   "metadata": {
    "collapsed": false
   },
   "outputs": [
    {
     "data": {
      "text/plain": [
       "<matplotlib.legend.Legend at 0x19c94828>"
      ]
     },
     "execution_count": 144,
     "metadata": {},
     "output_type": "execute_result"
    },
    {
     "data": {
      "image/png": "[encoded data removed]",
      "text/plain": [
       "<matplotlib.figure.Figure at 0x19a734e0>"
      ]
     },
     "metadata": {},
     "output_type": "display_data"
    }
   ],
   "source": [
    "# con scatter\n",
    "\n",
    "pos = np.where(y2r == 1)\n",
    "neg = np.where(y2r == 0)\n",
    "plt.scatter(X2[pos, 0], X2[pos, 1], marker='x', c='y')\n",
    "plt.scatter(X2[neg, 0], X2[neg, 1], marker='o', c='r')\n",
    "plt.title('Resultado del modelo con una frontera de decision polinomial')\n",
    "plt.xlabel('Test 1')\n",
    "plt.ylabel('Test 2')\n",
    "plt.legend(['y = 1', 'y = 0'])"
   ]
  },
  {
   "cell_type": "markdown",
   "metadata": {},
   "source": [
    "# Tercera parte\n",
    "\n",
    "En el caso de los microships es claro que existe overfitting. Se debe entonces adicionar un parametro de regularizacion (tambien llamada una penalización) a la funcion de costo, para mantener los elementos del vector theta pequenos. Esta técnica se llama tambien Ridge Regresion.\n"
   ]
  },
  {
   "cell_type": "code",
   "execution_count": 45,
   "metadata": {
    "collapsed": true
   },
   "outputs": [],
   "source": [
    "#Pregunta como se hace una ridge regresion con clasificacion????"
   ]
  },
  {
   "cell_type": "code",
   "execution_count": 163,
   "metadata": {
    "collapsed": false
   },
   "outputs": [
    {
     "name": "stderr",
     "output_type": "stream",
     "text": [
      "A newer version of GraphLab Create (v1.8.2) is available! Your current version is v1.7.1.\n",
      "\n",
      "You can use pip to upgrade the graphlab-create package. For more information see https://dato.com/products/create/upgrade.\n"
     ]
    }
   ],
   "source": [
    "import graphlab"
   ]
  },
  {
   "cell_type": "code",
   "execution_count": 169,
   "metadata": {
    "collapsed": false
   },
   "outputs": [
    {
     "name": "stdout",
     "output_type": "stream",
     "text": [
      "PROGRESS: Finished parsing file C:\\Users\\margrami\\Regression\\ex2data_gl.txt\n",
      "PROGRESS: Parsing completed. Parsed 100 lines in 0.023001 secs.\n",
      "------------------------------------------------------\n",
      "Inferred types from first line of file as \n",
      "column_type_hints=[float,float,long]\n",
      "If parsing fails due to incorrect types, you can correct\n",
      "the inferred type list above and pass it to read_csv in\n",
      "the column_type_hints argument\n",
      "------------------------------------------------------\n",
      "PROGRESS: Finished parsing file C:\\Users\\margrami\\Regression\\ex2data_gl.txt\n",
      "PROGRESS: Parsing completed. Parsed 118 lines in 0.012001 secs.\n"
     ]
    }
   ],
   "source": [
    "#usemos la libreria GRAPHLAB\n",
    "data_gl = graphlab.SFrame.read_csv('ex2data_gl.txt')"
   ]
  },
  {
   "cell_type": "code",
   "execution_count": 170,
   "metadata": {
    "collapsed": false
   },
   "outputs": [
    {
     "data": {
      "text/html": [
       "<div style=\"max-height:1000px;max-width:1500px;overflow:auto;\"><table frame=\"box\" rules=\"cols\">\n",
       "    <tr>\n",
       "        <th style=\"padding-left: 1em; padding-right: 1em; text-align: center\">text1</th>\n",
       "        <th style=\"padding-left: 1em; padding-right: 1em; text-align: center\">text2</th>\n",
       "        <th style=\"padding-left: 1em; padding-right: 1em; text-align: center\">Pass</th>\n",
       "    </tr>\n",
       "    <tr>\n",
       "        <td style=\"padding-left: 1em; padding-right: 1em; text-align: center; vertical-align: top\">0.051267</td>\n",
       "        <td style=\"padding-left: 1em; padding-right: 1em; text-align: center; vertical-align: top\">0.69956</td>\n",
       "        <td style=\"padding-left: 1em; padding-right: 1em; text-align: center; vertical-align: top\">1</td>\n",
       "    </tr>\n",
       "    <tr>\n",
       "        <td style=\"padding-left: 1em; padding-right: 1em; text-align: center; vertical-align: top\">-0.092742</td>\n",
       "        <td style=\"padding-left: 1em; padding-right: 1em; text-align: center; vertical-align: top\">0.68494</td>\n",
       "        <td style=\"padding-left: 1em; padding-right: 1em; text-align: center; vertical-align: top\">1</td>\n",
       "    </tr>\n",
       "    <tr>\n",
       "        <td style=\"padding-left: 1em; padding-right: 1em; text-align: center; vertical-align: top\">-0.21371</td>\n",
       "        <td style=\"padding-left: 1em; padding-right: 1em; text-align: center; vertical-align: top\">0.69225</td>\n",
       "        <td style=\"padding-left: 1em; padding-right: 1em; text-align: center; vertical-align: top\">1</td>\n",
       "    </tr>\n",
       "    <tr>\n",
       "        <td style=\"padding-left: 1em; padding-right: 1em; text-align: center; vertical-align: top\">-0.375</td>\n",
       "        <td style=\"padding-left: 1em; padding-right: 1em; text-align: center; vertical-align: top\">0.50219</td>\n",
       "        <td style=\"padding-left: 1em; padding-right: 1em; text-align: center; vertical-align: top\">1</td>\n",
       "    </tr>\n",
       "    <tr>\n",
       "        <td style=\"padding-left: 1em; padding-right: 1em; text-align: center; vertical-align: top\">-0.51325</td>\n",
       "        <td style=\"padding-left: 1em; padding-right: 1em; text-align: center; vertical-align: top\">0.46564</td>\n",
       "        <td style=\"padding-left: 1em; padding-right: 1em; text-align: center; vertical-align: top\">1</td>\n",
       "    </tr>\n",
       "    <tr>\n",
       "        <td style=\"padding-left: 1em; padding-right: 1em; text-align: center; vertical-align: top\">-0.52477</td>\n",
       "        <td style=\"padding-left: 1em; padding-right: 1em; text-align: center; vertical-align: top\">0.2098</td>\n",
       "        <td style=\"padding-left: 1em; padding-right: 1em; text-align: center; vertical-align: top\">1</td>\n",
       "    </tr>\n",
       "    <tr>\n",
       "        <td style=\"padding-left: 1em; padding-right: 1em; text-align: center; vertical-align: top\">-0.39804</td>\n",
       "        <td style=\"padding-left: 1em; padding-right: 1em; text-align: center; vertical-align: top\">0.034357</td>\n",
       "        <td style=\"padding-left: 1em; padding-right: 1em; text-align: center; vertical-align: top\">1</td>\n",
       "    </tr>\n",
       "    <tr>\n",
       "        <td style=\"padding-left: 1em; padding-right: 1em; text-align: center; vertical-align: top\">-0.30588</td>\n",
       "        <td style=\"padding-left: 1em; padding-right: 1em; text-align: center; vertical-align: top\">-0.19225</td>\n",
       "        <td style=\"padding-left: 1em; padding-right: 1em; text-align: center; vertical-align: top\">1</td>\n",
       "    </tr>\n",
       "    <tr>\n",
       "        <td style=\"padding-left: 1em; padding-right: 1em; text-align: center; vertical-align: top\">0.016705</td>\n",
       "        <td style=\"padding-left: 1em; padding-right: 1em; text-align: center; vertical-align: top\">-0.40424</td>\n",
       "        <td style=\"padding-left: 1em; padding-right: 1em; text-align: center; vertical-align: top\">1</td>\n",
       "    </tr>\n",
       "    <tr>\n",
       "        <td style=\"padding-left: 1em; padding-right: 1em; text-align: center; vertical-align: top\">0.13191</td>\n",
       "        <td style=\"padding-left: 1em; padding-right: 1em; text-align: center; vertical-align: top\">-0.51389</td>\n",
       "        <td style=\"padding-left: 1em; padding-right: 1em; text-align: center; vertical-align: top\">1</td>\n",
       "    </tr>\n",
       "</table>\n",
       "[10 rows x 3 columns]<br/>\n",
       "</div>"
      ],
      "text/plain": [
       "Columns:\n",
       "\ttext1\tfloat\n",
       "\ttext2\tfloat\n",
       "\tPass\tint\n",
       "\n",
       "Rows: 10\n",
       "\n",
       "Data:\n",
       "+-----------+----------+------+\n",
       "|   text1   |  text2   | Pass |\n",
       "+-----------+----------+------+\n",
       "|  0.051267 | 0.69956  |  1   |\n",
       "| -0.092742 | 0.68494  |  1   |\n",
       "|  -0.21371 | 0.69225  |  1   |\n",
       "|   -0.375  | 0.50219  |  1   |\n",
       "|  -0.51325 | 0.46564  |  1   |\n",
       "|  -0.52477 |  0.2098  |  1   |\n",
       "|  -0.39804 | 0.034357 |  1   |\n",
       "|  -0.30588 | -0.19225 |  1   |\n",
       "|  0.016705 | -0.40424 |  1   |\n",
       "|  0.13191  | -0.51389 |  1   |\n",
       "+-----------+----------+------+\n",
       "[10 rows x 3 columns]"
      ]
     },
     "execution_count": 170,
     "metadata": {},
     "output_type": "execute_result"
    }
   ],
   "source": [
    "data_gl.head()"
   ]
  },
  {
   "cell_type": "code",
   "execution_count": 173,
   "metadata": {
    "collapsed": true
   },
   "outputs": [],
   "source": [
    "train_data,test_data = data_gl.random_split(.8, seed=0)"
   ]
  },
  {
   "cell_type": "code",
   "execution_count": null,
   "metadata": {
    "collapsed": true
   },
   "outputs": [],
   "source": [
    "def polynomial_sframe(feature, degree):\n",
    "    # assume that degree >= \n",
    "    # initialize the SFrame:\n",
    "    poly_sframe = graphlab.SFrame()\n",
    "        # and set poly_sframe['power_1'] equal to the passed feature\n",
    "        poly_sframe['power_1'] = feature\n",
    "        # first check if degree > 1\n",
    "        if degree > 1:\n",
    "            # then loop over the remaining degrees:\n",
    "            # range usually starts at 0 and stops at the endpoint-1. We want it to start at 2 and stop at degree\n",
    "            for power in range(2, degree+1): \n",
    "                # first we'll give the column a name:\n",
    "                name = 'power_' + str(power)\n",
    "                # then assign poly_sframe[name] to the appropriate power of feature\n",
    "                poly_sframe[str(name)] = feature.apply(lambda x: x**power)\n",
    "        return poly_sframe\n",
    "    \n",
    "def mapFeature(x1, x2):\n",
    "    '''\n",
    "    Maps the two input features to quadratic features.\n",
    "    Returns a new feature array with more features, comprising of\n",
    "    X1, X2, X1 ** 2, X2 ** 2, X1*X2, X1*X2 ** 2, etc...\n",
    "    Inputs X1, X2 must be the same size\n",
    "    '''\n",
    "    x1.shape = (x1.size, 1)\n",
    "    x2.shape = (x2.size, 1)\n",
    "    degree = 6\n",
    "    out = np.ones(shape=(x1[:, 0].size, 1))\n",
    "\n",
    "    m, n = out.shape\n",
    "\n",
    "    for i in range(1, degree + 1):\n",
    "        for j in range(i + 1):\n",
    "            r = (x1 ** (i - j)) * (x2 ** j)\n",
    "            out = np.append(out, r, axis=1)\n",
    "\n",
    "    return out\n"
   ]
  },
  {
   "cell_type": "code",
   "execution_count": null,
   "metadata": {
    "collapsed": true
   },
   "outputs": [],
   "source": [
    "def polynomial_sframe(feature, degree):\n",
    "    poly_sframe = graphlab.SFrame()\n",
    "    poly_sframe['power1'] = feature\n",
    "    if degree > 1:\n",
    "        for power in range(2, degree + 1):\n",
    "            name = 'power_' + str"
   ]
  },
  {
   "cell_type": "code",
   "execution_count": null,
   "metadata": {
    "collapsed": true
   },
   "outputs": [],
   "source": []
  },
  {
   "cell_type": "code",
   "execution_count": 174,
   "metadata": {
    "collapsed": false
   },
   "outputs": [
    {
     "name": "stdout",
     "output_type": "stream",
     "text": [
      "PROGRESS: Logistic regression:\n",
      "PROGRESS: --------------------------------------------------------\n",
      "PROGRESS: Number of examples          : 102\n",
      "PROGRESS: Number of classes           : 2\n",
      "PROGRESS: Number of feature columns   : 2\n",
      "PROGRESS: Number of unpacked features : 2\n",
      "PROGRESS: Number of coefficients    : 3\n",
      "PROGRESS: Starting Newton Method\n",
      "PROGRESS: --------------------------------------------------------\n",
      "PROGRESS: +-----------+----------+--------------+-------------------+---------------------+\n",
      "PROGRESS: | Iteration | Passes   | Elapsed Time | Training-accuracy | Validation-accuracy |\n",
      "PROGRESS: +-----------+----------+--------------+-------------------+---------------------+\n",
      "PROGRESS: | 1         | 2        | 1.003058     | 0.539216          | 0.437500            |\n",
      "PROGRESS: | 2         | 3        | 1.005058     | 0.539216          | 0.437500            |\n",
      "PROGRESS: +-----------+----------+--------------+-------------------+---------------------+\n",
      "PROGRESS: SUCCESS: Optimal solution found.\n",
      "PROGRESS:\n"
     ]
    }
   ],
   "source": [
    "logistic_model = graphlab.logistic_classifier.create(train_data,\n",
    "                                                     target='Pass',\n",
    "                                                     features=['text1', 'text2'],\n",
    "                                                     validation_set=test_data)"
   ]
  },
  {
   "cell_type": "code",
   "execution_count": 177,
   "metadata": {
    "collapsed": false
   },
   "outputs": [
    {
     "data": {
      "text/html": [
       "<div style=\"max-height:1000px;max-width:1500px;overflow:auto;\"><table frame=\"box\" rules=\"cols\">\n",
       "    <tr>\n",
       "        <th style=\"padding-left: 1em; padding-right: 1em; text-align: center\">name</th>\n",
       "        <th style=\"padding-left: 1em; padding-right: 1em; text-align: center\">index</th>\n",
       "        <th style=\"padding-left: 1em; padding-right: 1em; text-align: center\">class</th>\n",
       "        <th style=\"padding-left: 1em; padding-right: 1em; text-align: center\">value</th>\n",
       "    </tr>\n",
       "    <tr>\n",
       "        <td style=\"padding-left: 1em; padding-right: 1em; text-align: center; vertical-align: top\">(intercept)</td>\n",
       "        <td style=\"padding-left: 1em; padding-right: 1em; text-align: center; vertical-align: top\">None</td>\n",
       "        <td style=\"padding-left: 1em; padding-right: 1em; text-align: center; vertical-align: top\">1</td>\n",
       "        <td style=\"padding-left: 1em; padding-right: 1em; text-align: center; vertical-align: top\">-0.0293023971575</td>\n",
       "    </tr>\n",
       "    <tr>\n",
       "        <td style=\"padding-left: 1em; padding-right: 1em; text-align: center; vertical-align: top\">text1</td>\n",
       "        <td style=\"padding-left: 1em; padding-right: 1em; text-align: center; vertical-align: top\">None</td>\n",
       "        <td style=\"padding-left: 1em; padding-right: 1em; text-align: center; vertical-align: top\">1</td>\n",
       "        <td style=\"padding-left: 1em; padding-right: 1em; text-align: center; vertical-align: top\">-0.399966886568</td>\n",
       "    </tr>\n",
       "    <tr>\n",
       "        <td style=\"padding-left: 1em; padding-right: 1em; text-align: center; vertical-align: top\">text2</td>\n",
       "        <td style=\"padding-left: 1em; padding-right: 1em; text-align: center; vertical-align: top\">None</td>\n",
       "        <td style=\"padding-left: 1em; padding-right: 1em; text-align: center; vertical-align: top\">1</td>\n",
       "        <td style=\"padding-left: 1em; padding-right: 1em; text-align: center; vertical-align: top\">0.0479740691362</td>\n",
       "    </tr>\n",
       "</table>\n",
       "[3 rows x 4 columns]<br/>\n",
       "</div>"
      ],
      "text/plain": [
       "Columns:\n",
       "\tname\tstr\n",
       "\tindex\tstr\n",
       "\tclass\tint\n",
       "\tvalue\tfloat\n",
       "\n",
       "Rows: 3\n",
       "\n",
       "Data:\n",
       "+-------------+-------+-------+------------------+\n",
       "|     name    | index | class |      value       |\n",
       "+-------------+-------+-------+------------------+\n",
       "| (intercept) |  None |   1   | -0.0293023971575 |\n",
       "|    text1    |  None |   1   | -0.399966886568  |\n",
       "|    text2    |  None |   1   | 0.0479740691362  |\n",
       "+-------------+-------+-------+------------------+\n",
       "[3 rows x 4 columns]"
      ]
     },
     "execution_count": 177,
     "metadata": {},
     "output_type": "execute_result"
    }
   ],
   "source": [
    "logistic_model.coefficients"
   ]
  },
  {
   "cell_type": "code",
   "execution_count": null,
   "metadata": {
    "collapsed": true
   },
   "outputs": [],
   "source": []
  },
  {
   "cell_type": "markdown",
   "metadata": {},
   "source": [
    "# Cuarta parte - Evaluar rendimiento\n",
    "Assessing Performance o evaluar rendimiento"
   ]
  }
 ],
 "metadata": {
  "kernelspec": {
   "display_name": "Python 2",
   "language": "python",
   "name": "python2"
  },
  "language_info": {
   "codemirror_mode": {
    "name": "ipython",
    "version": 2
   },
   "file_extension": ".py",
   "mimetype": "text/x-python",
   "name": "python",
   "nbconvert_exporter": "python",
   "pygments_lexer": "ipython2",
   "version": "2.7.10"
  }
 },
 "nbformat": 4,
 "nbformat_minor": 0
}
